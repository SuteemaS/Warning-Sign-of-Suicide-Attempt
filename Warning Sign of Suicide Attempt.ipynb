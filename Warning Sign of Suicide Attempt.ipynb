{
 "cells": [
  {
   "cell_type": "markdown",
   "metadata": {
    "toc": true
   },
   "source": [
    "<h1>Table of Contents<span class=\"tocSkip\"></span></h1>\n",
    "<div class=\"toc\"><ul class=\"toc-item\"><li><span><a href=\"#Setting-&amp;-Read-File\" data-toc-modified-id=\"Setting-&amp;-Read-File-1\"><span class=\"toc-item-num\">1&nbsp;&nbsp;</span>Setting &amp; Read File</a></span></li><li><span><a href=\"#EDA-&amp;-Data-Preparation\" data-toc-modified-id=\"EDA-&amp;-Data-Preparation-2\"><span class=\"toc-item-num\">2&nbsp;&nbsp;</span>EDA &amp; Data Preparation</a></span><ul class=\"toc-item\"><li><span><a href=\"#Check-Missing-Value-&amp;-Duplication\" data-toc-modified-id=\"Check-Missing-Value-&amp;-Duplication-2.1\"><span class=\"toc-item-num\">2.1&nbsp;&nbsp;</span>Check Missing Value &amp; Duplication</a></span></li><li><span><a href=\"#Check-Unique-of-each-Features\" data-toc-modified-id=\"Check-Unique-of-each-Features-2.2\"><span class=\"toc-item-num\">2.2&nbsp;&nbsp;</span>Check Unique of each Features</a></span></li><li><span><a href=\"#Drop-Variables\" data-toc-modified-id=\"Drop-Variables-2.3\"><span class=\"toc-item-num\">2.3&nbsp;&nbsp;</span>Drop Variables</a></span></li><li><span><a href=\"#Visualize-the-simplest-variables-first\" data-toc-modified-id=\"Visualize-the-simplest-variables-first-2.4\"><span class=\"toc-item-num\">2.4&nbsp;&nbsp;</span>Visualize the simplest variables first</a></span><ul class=\"toc-item\"><li><span><a href=\"#gender\" data-toc-modified-id=\"gender-2.4.1\"><span class=\"toc-item-num\">2.4.1&nbsp;&nbsp;</span>gender</a></span></li><li><span><a href=\"#sexuallity\" data-toc-modified-id=\"sexuallity-2.4.2\"><span class=\"toc-item-num\">2.4.2&nbsp;&nbsp;</span>sexuallity</a></span></li><li><span><a href=\"#social_fear\" data-toc-modified-id=\"social_fear-2.4.3\"><span class=\"toc-item-num\">2.4.3&nbsp;&nbsp;</span>social_fear</a></span></li><li><span><a href=\"#depressd\" data-toc-modified-id=\"depressd-2.4.4\"><span class=\"toc-item-num\">2.4.4&nbsp;&nbsp;</span>depressd</a></span></li><li><span><a href=\"#employment\" data-toc-modified-id=\"employment-2.4.5\"><span class=\"toc-item-num\">2.4.5&nbsp;&nbsp;</span>employment</a></span></li><li><span><a href=\"#income\" data-toc-modified-id=\"income-2.4.6\"><span class=\"toc-item-num\">2.4.6&nbsp;&nbsp;</span>income</a></span></li><li><span><a href=\"#age\" data-toc-modified-id=\"age-2.4.7\"><span class=\"toc-item-num\">2.4.7&nbsp;&nbsp;</span>age</a></span></li><li><span><a href=\"#friend\" data-toc-modified-id=\"friend-2.4.8\"><span class=\"toc-item-num\">2.4.8&nbsp;&nbsp;</span>friend</a></span></li></ul></li><li><span><a href=\"#Recoding-in-order-to-reduce-classes-in-each-variable\" data-toc-modified-id=\"Recoding-in-order-to-reduce-classes-in-each-variable-2.5\"><span class=\"toc-item-num\">2.5&nbsp;&nbsp;</span>Recoding in order to reduce classes in each variable</a></span><ul class=\"toc-item\"><li><span><a href=\"#gender\" data-toc-modified-id=\"gender-2.5.1\"><span class=\"toc-item-num\">2.5.1&nbsp;&nbsp;</span>gender</a></span></li><li><span><a href=\"#race\" data-toc-modified-id=\"race-2.5.2\"><span class=\"toc-item-num\">2.5.2&nbsp;&nbsp;</span>race</a></span></li><li><span><a href=\"#friends\" data-toc-modified-id=\"friends-2.5.3\"><span class=\"toc-item-num\">2.5.3&nbsp;&nbsp;</span>friends</a></span></li><li><span><a href=\"#what_help_from_others\" data-toc-modified-id=\"what_help_from_others-2.5.4\"><span class=\"toc-item-num\">2.5.4&nbsp;&nbsp;</span>what_help_from_others</a></span></li><li><span><a href=\"#improve_yourself_how\" data-toc-modified-id=\"improve_yourself_how-2.5.5\"><span class=\"toc-item-num\">2.5.5&nbsp;&nbsp;</span>improve_yourself_how</a></span></li></ul></li><li><span><a href=\"#Binary-Recoding\" data-toc-modified-id=\"Binary-Recoding-2.6\"><span class=\"toc-item-num\">2.6&nbsp;&nbsp;</span>Binary Recoding</a></span></li><li><span><a href=\"#Train-&amp;-Test-Split\" data-toc-modified-id=\"Train-&amp;-Test-Split-2.7\"><span class=\"toc-item-num\">2.7&nbsp;&nbsp;</span>Train &amp; Test Split</a></span></li><li><span><a href=\"#Get-Dummies\" data-toc-modified-id=\"Get-Dummies-2.8\"><span class=\"toc-item-num\">2.8&nbsp;&nbsp;</span>Get Dummies</a></span></li><li><span><a href=\"#Scaling\" data-toc-modified-id=\"Scaling-2.9\"><span class=\"toc-item-num\">2.9&nbsp;&nbsp;</span>Scaling</a></span></li><li><span><a href=\"#Check-Imbalance-&amp;-Upsampling-(Train-set-only)\" data-toc-modified-id=\"Check-Imbalance-&amp;-Upsampling-(Train-set-only)-2.10\"><span class=\"toc-item-num\">2.10&nbsp;&nbsp;</span>Check Imbalance &amp; Upsampling (Train set only)</a></span></li></ul></li><li><span><a href=\"#Cross-validation\" data-toc-modified-id=\"Cross-validation-3\"><span class=\"toc-item-num\">3&nbsp;&nbsp;</span>Cross validation</a></span><ul class=\"toc-item\"><li><span><a href=\"#SVM-Classifier\" data-toc-modified-id=\"SVM-Classifier-3.1\"><span class=\"toc-item-num\">3.1&nbsp;&nbsp;</span>SVM Classifier</a></span></li><li><span><a href=\"#Logistic-Regression-(SGD)\" data-toc-modified-id=\"Logistic-Regression-(SGD)-3.2\"><span class=\"toc-item-num\">3.2&nbsp;&nbsp;</span>Logistic Regression (SGD)</a></span></li><li><span><a href=\"#Random-Forest\" data-toc-modified-id=\"Random-Forest-3.3\"><span class=\"toc-item-num\">3.3&nbsp;&nbsp;</span>Random Forest</a></span></li><li><span><a href=\"#K-Nearest-Neighbors\" data-toc-modified-id=\"K-Nearest-Neighbors-3.4\"><span class=\"toc-item-num\">3.4&nbsp;&nbsp;</span>K Nearest Neighbors</a></span></li></ul></li><li><span><a href=\"#GridSearch\" data-toc-modified-id=\"GridSearch-4\"><span class=\"toc-item-num\">4&nbsp;&nbsp;</span>GridSearch</a></span><ul class=\"toc-item\"><li><span><a href=\"#Random-Forest\" data-toc-modified-id=\"Random-Forest-4.1\"><span class=\"toc-item-num\">4.1&nbsp;&nbsp;</span>Random Forest</a></span></li><li><span><a href=\"#K-Nearest-Neighbors\" data-toc-modified-id=\"K-Nearest-Neighbors-4.2\"><span class=\"toc-item-num\">4.2&nbsp;&nbsp;</span>K Nearest Neighbors</a></span></li></ul></li><li><span><a href=\"#Ensemble\" data-toc-modified-id=\"Ensemble-5\"><span class=\"toc-item-num\">5&nbsp;&nbsp;</span>Ensemble</a></span><ul class=\"toc-item\"><li><span><a href=\"#Bagging-(oob_score=True)\" data-toc-modified-id=\"Bagging-(oob_score=True)-5.1\"><span class=\"toc-item-num\">5.1&nbsp;&nbsp;</span>Bagging (oob_score=True)</a></span></li><li><span><a href=\"#AdaBoost\" data-toc-modified-id=\"AdaBoost-5.2\"><span class=\"toc-item-num\">5.2&nbsp;&nbsp;</span>AdaBoost</a></span></li><li><span><a href=\"#Voting\" data-toc-modified-id=\"Voting-5.3\"><span class=\"toc-item-num\">5.3&nbsp;&nbsp;</span>Voting</a></span></li><li><span><a href=\"#Stacking\" data-toc-modified-id=\"Stacking-5.4\"><span class=\"toc-item-num\">5.4&nbsp;&nbsp;</span>Stacking</a></span></li></ul></li><li><span><a href=\"#Conclusion\" data-toc-modified-id=\"Conclusion-6\"><span class=\"toc-item-num\">6&nbsp;&nbsp;</span>Conclusion</a></span></li></ul></div>"
   ]
  },
  {
   "cell_type": "markdown",
   "metadata": {},
   "source": [
    "***\n",
    "# MEMBER\n",
    "\n",
    "\n",
    "    # 6120412009    Suteema    Saengchan\n",
    "    # 6120412028    Sutthichai Katawethitatham\n",
    "***"
   ]
  },
  {
   "cell_type": "markdown",
   "metadata": {},
   "source": [
    "## Setting & Read File"
   ]
  },
  {
   "cell_type": "code",
   "execution_count": 1,
   "metadata": {},
   "outputs": [],
   "source": [
    "import numpy as np\n",
    "import pandas as pd\n",
    "import matplotlib.pyplot as plt\n",
    "import seaborn as sns\n",
    "%matplotlib inline\n",
    "sns.set()"
   ]
  },
  {
   "cell_type": "code",
   "execution_count": 2,
   "metadata": {},
   "outputs": [],
   "source": [
    "df = pd.read_csv('foreveralone.csv')"
   ]
  },
  {
   "cell_type": "code",
   "execution_count": 3,
   "metadata": {
    "scrolled": true
   },
   "outputs": [
    {
     "data": {
      "text/html": [
       "<div>\n",
       "<style scoped>\n",
       "    .dataframe tbody tr th:only-of-type {\n",
       "        vertical-align: middle;\n",
       "    }\n",
       "\n",
       "    .dataframe tbody tr th {\n",
       "        vertical-align: top;\n",
       "    }\n",
       "\n",
       "    .dataframe thead th {\n",
       "        text-align: right;\n",
       "    }\n",
       "</style>\n",
       "<table border=\"1\" class=\"dataframe\">\n",
       "  <thead>\n",
       "    <tr style=\"text-align: right;\">\n",
       "      <th></th>\n",
       "      <th>time</th>\n",
       "      <th>gender</th>\n",
       "      <th>sexuallity</th>\n",
       "      <th>age</th>\n",
       "      <th>income</th>\n",
       "      <th>race</th>\n",
       "      <th>bodyweight</th>\n",
       "      <th>virgin</th>\n",
       "      <th>prostitution_legal</th>\n",
       "      <th>pay_for_sex</th>\n",
       "      <th>friends</th>\n",
       "      <th>social_fear</th>\n",
       "      <th>depressed</th>\n",
       "      <th>what_help_from_others</th>\n",
       "      <th>attempt_suicide</th>\n",
       "      <th>employment</th>\n",
       "      <th>job_title</th>\n",
       "      <th>edu_level</th>\n",
       "      <th>improve_yourself_how</th>\n",
       "    </tr>\n",
       "  </thead>\n",
       "  <tbody>\n",
       "    <tr>\n",
       "      <th>0</th>\n",
       "      <td>5/17/2016 20:04:18</td>\n",
       "      <td>Male</td>\n",
       "      <td>Straight</td>\n",
       "      <td>35</td>\n",
       "      <td>$30,000 to $39,999</td>\n",
       "      <td>White non-Hispanic</td>\n",
       "      <td>Normal weight</td>\n",
       "      <td>Yes</td>\n",
       "      <td>No</td>\n",
       "      <td>No</td>\n",
       "      <td>0.0</td>\n",
       "      <td>Yes</td>\n",
       "      <td>Yes</td>\n",
       "      <td>wingman/wingwoman, Set me up with a date</td>\n",
       "      <td>Yes</td>\n",
       "      <td>Employed for wages</td>\n",
       "      <td>mechanical drafter</td>\n",
       "      <td>Associate degree</td>\n",
       "      <td>None</td>\n",
       "    </tr>\n",
       "    <tr>\n",
       "      <th>1</th>\n",
       "      <td>5/17/2016 20:04:30</td>\n",
       "      <td>Male</td>\n",
       "      <td>Bisexual</td>\n",
       "      <td>21</td>\n",
       "      <td>$1 to $10,000</td>\n",
       "      <td>White non-Hispanic</td>\n",
       "      <td>Underweight</td>\n",
       "      <td>Yes</td>\n",
       "      <td>No</td>\n",
       "      <td>No</td>\n",
       "      <td>0.0</td>\n",
       "      <td>Yes</td>\n",
       "      <td>Yes</td>\n",
       "      <td>wingman/wingwoman, Set me up with a date, date...</td>\n",
       "      <td>No</td>\n",
       "      <td>Out of work and looking for work</td>\n",
       "      <td>-</td>\n",
       "      <td>Some college, no degree</td>\n",
       "      <td>join clubs/socual clubs/meet ups</td>\n",
       "    </tr>\n",
       "    <tr>\n",
       "      <th>2</th>\n",
       "      <td>5/17/2016 20:04:58</td>\n",
       "      <td>Male</td>\n",
       "      <td>Straight</td>\n",
       "      <td>22</td>\n",
       "      <td>$0</td>\n",
       "      <td>White non-Hispanic</td>\n",
       "      <td>Overweight</td>\n",
       "      <td>Yes</td>\n",
       "      <td>No</td>\n",
       "      <td>No</td>\n",
       "      <td>10.0</td>\n",
       "      <td>Yes</td>\n",
       "      <td>Yes</td>\n",
       "      <td>I don't want help</td>\n",
       "      <td>No</td>\n",
       "      <td>Out of work but not currently looking for work</td>\n",
       "      <td>unemployed</td>\n",
       "      <td>Some college, no degree</td>\n",
       "      <td>Other exercise</td>\n",
       "    </tr>\n",
       "    <tr>\n",
       "      <th>3</th>\n",
       "      <td>5/17/2016 20:08:01</td>\n",
       "      <td>Male</td>\n",
       "      <td>Straight</td>\n",
       "      <td>19</td>\n",
       "      <td>$1 to $10,000</td>\n",
       "      <td>White non-Hispanic</td>\n",
       "      <td>Overweight</td>\n",
       "      <td>Yes</td>\n",
       "      <td>Yes</td>\n",
       "      <td>No</td>\n",
       "      <td>8.0</td>\n",
       "      <td>Yes</td>\n",
       "      <td>Yes</td>\n",
       "      <td>date coaching</td>\n",
       "      <td>No</td>\n",
       "      <td>A student</td>\n",
       "      <td>student</td>\n",
       "      <td>Some college, no degree</td>\n",
       "      <td>Joined a gym/go to the gym</td>\n",
       "    </tr>\n",
       "    <tr>\n",
       "      <th>4</th>\n",
       "      <td>5/17/2016 20:08:04</td>\n",
       "      <td>Male</td>\n",
       "      <td>Straight</td>\n",
       "      <td>23</td>\n",
       "      <td>$30,000 to $39,999</td>\n",
       "      <td>White non-Hispanic</td>\n",
       "      <td>Overweight</td>\n",
       "      <td>No</td>\n",
       "      <td>No</td>\n",
       "      <td>Yes and I have</td>\n",
       "      <td>10.0</td>\n",
       "      <td>No</td>\n",
       "      <td>Yes</td>\n",
       "      <td>I don't want help</td>\n",
       "      <td>No</td>\n",
       "      <td>Employed for wages</td>\n",
       "      <td>Factory worker</td>\n",
       "      <td>High school graduate, diploma or the equivalen...</td>\n",
       "      <td>None</td>\n",
       "    </tr>\n",
       "  </tbody>\n",
       "</table>\n",
       "</div>"
      ],
      "text/plain": [
       "                 time gender sexuallity  age              income  \\\n",
       "0  5/17/2016 20:04:18   Male   Straight   35  $30,000 to $39,999   \n",
       "1  5/17/2016 20:04:30   Male   Bisexual   21       $1 to $10,000   \n",
       "2  5/17/2016 20:04:58   Male   Straight   22                  $0   \n",
       "3  5/17/2016 20:08:01   Male   Straight   19       $1 to $10,000   \n",
       "4  5/17/2016 20:08:04   Male   Straight   23  $30,000 to $39,999   \n",
       "\n",
       "                 race     bodyweight virgin prostitution_legal  \\\n",
       "0  White non-Hispanic  Normal weight    Yes                 No   \n",
       "1  White non-Hispanic    Underweight    Yes                 No   \n",
       "2  White non-Hispanic     Overweight    Yes                 No   \n",
       "3  White non-Hispanic     Overweight    Yes                Yes   \n",
       "4  White non-Hispanic     Overweight     No                 No   \n",
       "\n",
       "      pay_for_sex  friends social_fear depressed  \\\n",
       "0              No      0.0         Yes       Yes   \n",
       "1              No      0.0         Yes       Yes   \n",
       "2              No     10.0         Yes       Yes   \n",
       "3              No      8.0         Yes       Yes   \n",
       "4  Yes and I have     10.0          No       Yes   \n",
       "\n",
       "                               what_help_from_others attempt_suicide  \\\n",
       "0           wingman/wingwoman, Set me up with a date             Yes   \n",
       "1  wingman/wingwoman, Set me up with a date, date...              No   \n",
       "2                                  I don't want help              No   \n",
       "3                                      date coaching              No   \n",
       "4                                  I don't want help              No   \n",
       "\n",
       "                                       employment           job_title  \\\n",
       "0                              Employed for wages  mechanical drafter   \n",
       "1                Out of work and looking for work                   -   \n",
       "2  Out of work but not currently looking for work          unemployed   \n",
       "3                                       A student             student   \n",
       "4                              Employed for wages      Factory worker   \n",
       "\n",
       "                                           edu_level  \\\n",
       "0                                   Associate degree   \n",
       "1                            Some college, no degree   \n",
       "2                            Some college, no degree   \n",
       "3                            Some college, no degree   \n",
       "4  High school graduate, diploma or the equivalen...   \n",
       "\n",
       "               improve_yourself_how  \n",
       "0                              None  \n",
       "1  join clubs/socual clubs/meet ups  \n",
       "2                    Other exercise  \n",
       "3        Joined a gym/go to the gym  \n",
       "4                              None  "
      ]
     },
     "execution_count": 3,
     "metadata": {},
     "output_type": "execute_result"
    }
   ],
   "source": [
    "df.head()"
   ]
  },
  {
   "cell_type": "markdown",
   "metadata": {},
   "source": [
    "## EDA & Data Preparation"
   ]
  },
  {
   "cell_type": "markdown",
   "metadata": {},
   "source": [
    "### Check Missing Value & Duplication"
   ]
  },
  {
   "cell_type": "code",
   "execution_count": 4,
   "metadata": {
    "scrolled": false
   },
   "outputs": [
    {
     "data": {
      "text/plain": [
       "<matplotlib.axes._subplots.AxesSubplot at 0x1a1ad2d7b8>"
      ]
     },
     "execution_count": 4,
     "metadata": {},
     "output_type": "execute_result"
    },
    {
     "data": {
      "image/png": "[encoded data removed]",
      "text/plain": [
       "<Figure size 432x288 with 1 Axes>"
      ]
     },
     "metadata": {
      "needs_background": "light"
     },
     "output_type": "display_data"
    }
   ],
   "source": [
    "sns.heatmap(df.isnull(),yticklabels=False,cbar=False,cmap='viridis')"
   ]
  },
  {
   "cell_type": "code",
   "execution_count": 5,
   "metadata": {},
   "outputs": [
    {
     "data": {
      "text/html": [
       "<div>\n",
       "<style scoped>\n",
       "    .dataframe tbody tr th:only-of-type {\n",
       "        vertical-align: middle;\n",
       "    }\n",
       "\n",
       "    .dataframe tbody tr th {\n",
       "        vertical-align: top;\n",
       "    }\n",
       "\n",
       "    .dataframe thead th {\n",
       "        text-align: right;\n",
       "    }\n",
       "</style>\n",
       "<table border=\"1\" class=\"dataframe\">\n",
       "  <thead>\n",
       "    <tr style=\"text-align: right;\">\n",
       "      <th></th>\n",
       "      <th>time</th>\n",
       "      <th>gender</th>\n",
       "      <th>sexuallity</th>\n",
       "      <th>age</th>\n",
       "      <th>income</th>\n",
       "      <th>race</th>\n",
       "      <th>bodyweight</th>\n",
       "      <th>virgin</th>\n",
       "      <th>prostitution_legal</th>\n",
       "      <th>pay_for_sex</th>\n",
       "      <th>friends</th>\n",
       "      <th>social_fear</th>\n",
       "      <th>depressed</th>\n",
       "      <th>what_help_from_others</th>\n",
       "      <th>attempt_suicide</th>\n",
       "      <th>employment</th>\n",
       "      <th>job_title</th>\n",
       "      <th>edu_level</th>\n",
       "      <th>improve_yourself_how</th>\n",
       "    </tr>\n",
       "  </thead>\n",
       "  <tbody>\n",
       "  </tbody>\n",
       "</table>\n",
       "</div>"
      ],
      "text/plain": [
       "Empty DataFrame\n",
       "Columns: [time, gender, sexuallity, age, income, race, bodyweight, virgin, prostitution_legal, pay_for_sex, friends, social_fear, depressed, what_help_from_others, attempt_suicide, employment, job_title, edu_level, improve_yourself_how]\n",
       "Index: []"
      ]
     },
     "execution_count": 5,
     "metadata": {},
     "output_type": "execute_result"
    }
   ],
   "source": [
    "df[df.duplicated()]"
   ]
  },
  {
   "cell_type": "markdown",
   "metadata": {},
   "source": [
    "### Check Unique of each Features"
   ]
  },
  {
   "cell_type": "code",
   "execution_count": 6,
   "metadata": {
    "scrolled": true
   },
   "outputs": [
    {
     "data": {
      "text/plain": [
       "time                     468\n",
       "gender                     4\n",
       "sexuallity                 3\n",
       "age                       35\n",
       "income                    11\n",
       "race                      25\n",
       "bodyweight                 4\n",
       "virgin                     2\n",
       "prostitution_legal         2\n",
       "pay_for_sex                3\n",
       "friends                   30\n",
       "social_fear                2\n",
       "depressed                  2\n",
       "what_help_from_others     51\n",
       "attempt_suicide            2\n",
       "employment                 8\n",
       "job_title                275\n",
       "edu_level                  9\n",
       "improve_yourself_how      62\n",
       "dtype: int64"
      ]
     },
     "execution_count": 6,
     "metadata": {},
     "output_type": "execute_result"
    }
   ],
   "source": [
    "df.nunique()"
   ]
  },
  {
   "cell_type": "markdown",
   "metadata": {},
   "source": [
    "### Drop Variables "
   ]
  },
  {
   "cell_type": "code",
   "execution_count": 7,
   "metadata": {},
   "outputs": [],
   "source": [
    "#Drop 'time' because it is time stamp when the observers answered the questions.\n",
    "df.drop(['time'], axis=1, inplace = True)"
   ]
  },
  {
   "cell_type": "code",
   "execution_count": 8,
   "metadata": {},
   "outputs": [],
   "source": [
    "#Drop 'job title' because thare are too many classes (275) and 'employment' can be interpreted in the same way.\n",
    "df.drop(['job_title'], axis=1, inplace = True)"
   ]
  },
  {
   "cell_type": "markdown",
   "metadata": {},
   "source": [
    "### Visualize the simplest variables first"
   ]
  },
  {
   "cell_type": "markdown",
   "metadata": {},
   "source": [
    "#### gender"
   ]
  },
  {
   "cell_type": "code",
   "execution_count": 9,
   "metadata": {},
   "outputs": [
    {
     "data": {
      "text/plain": [
       "<matplotlib.axes._subplots.AxesSubplot at 0x1a1bb20dd8>"
      ]
     },
     "execution_count": 9,
     "metadata": {},
     "output_type": "execute_result"
    },
    {
     "data": {
      "image/png": "[encoded data removed]",
      "text/plain": [
       "<Figure size 432x288 with 1 Axes>"
      ]
     },
     "metadata": {
      "needs_background": "light"
     },
     "output_type": "display_data"
    }
   ],
   "source": [
    "sns.countplot(x='attempt_suicide',hue='gender',data=df, palette=\"coolwarm\") ##sig sexu"
   ]
  },
  {
   "cell_type": "markdown",
   "metadata": {},
   "source": [
    "#### sexuallity"
   ]
  },
  {
   "cell_type": "code",
   "execution_count": 10,
   "metadata": {
    "scrolled": false
   },
   "outputs": [
    {
     "data": {
      "text/plain": [
       "<matplotlib.axes._subplots.AxesSubplot at 0x1a1bc504a8>"
      ]
     },
     "execution_count": 10,
     "metadata": {},
     "output_type": "execute_result"
    },
    {
     "data": {
      "image/png": "[encoded data removed]",
      "text/plain": [
       "<Figure size 432x288 with 1 Axes>"
      ]
     },
     "metadata": {
      "needs_background": "light"
     },
     "output_type": "display_data"
    }
   ],
   "source": [
    "sns.countplot(x='attempt_suicide',hue='sexuallity',data=df, palette=\"coolwarm\")"
   ]
  },
  {
   "cell_type": "markdown",
   "metadata": {},
   "source": [
    "#### social_fear"
   ]
  },
  {
   "cell_type": "code",
   "execution_count": 11,
   "metadata": {
    "scrolled": true
   },
   "outputs": [
    {
     "data": {
      "text/plain": [
       "<matplotlib.axes._subplots.AxesSubplot at 0x1a1bd28080>"
      ]
     },
     "execution_count": 11,
     "metadata": {},
     "output_type": "execute_result"
    },
    {
     "data": {
      "image/png": "[encoded data removed]",
      "text/plain": [
       "<Figure size 432x288 with 1 Axes>"
      ]
     },
     "metadata": {
      "needs_background": "light"
     },
     "output_type": "display_data"
    }
   ],
   "source": [
    "sns.countplot(x='attempt_suicide',hue='social_fear',data=df, palette='Set1')"
   ]
  },
  {
   "cell_type": "markdown",
   "metadata": {},
   "source": [
    "#### depressd"
   ]
  },
  {
   "cell_type": "code",
   "execution_count": 12,
   "metadata": {
    "scrolled": false
   },
   "outputs": [
    {
     "data": {
      "text/plain": [
       "<matplotlib.axes._subplots.AxesSubplot at 0x1a1bd84fd0>"
      ]
     },
     "execution_count": 12,
     "metadata": {},
     "output_type": "execute_result"
    },
    {
     "data": {
      "image/png": "[encoded data removed]",
      "text/plain": [
       "<Figure size 432x288 with 1 Axes>"
      ]
     },
     "metadata": {
      "needs_background": "light"
     },
     "output_type": "display_data"
    }
   ],
   "source": [
    "sns.countplot(x='attempt_suicide',hue='depressed',data=df,palette='rainbow')"
   ]
  },
  {
   "cell_type": "markdown",
   "metadata": {},
   "source": [
    "#### employment"
   ]
  },
  {
   "cell_type": "code",
   "execution_count": 13,
   "metadata": {
    "scrolled": true
   },
   "outputs": [
    {
     "data": {
      "image/png": "[encoded data removed]",
      "text/plain": [
       "<Figure size 432x288 with 1 Axes>"
      ]
     },
     "metadata": {
      "needs_background": "light"
     },
     "output_type": "display_data"
    }
   ],
   "source": [
    "g = sns.countplot(x='attempt_suicide',hue='employment',data=df,palette='rainbow')\n",
    "g.legend(loc = 'center right',bbox_to_anchor = (2,0.5), ncol =1)\n",
    "plt.show()"
   ]
  },
  {
   "cell_type": "markdown",
   "metadata": {},
   "source": [
    "#### income"
   ]
  },
  {
   "cell_type": "code",
   "execution_count": 14,
   "metadata": {},
   "outputs": [
    {
     "data": {
      "image/png": "[encoded data removed]",
      "text/plain": [
       "<Figure size 432x288 with 1 Axes>"
      ]
     },
     "metadata": {
      "needs_background": "light"
     },
     "output_type": "display_data"
    }
   ],
   "source": [
    "g = sns.countplot(x='attempt_suicide',hue='income',data=df,palette='rainbow')\n",
    "g.legend(loc = 'center right',bbox_to_anchor = (2,0.5), ncol =1)\n",
    "plt.show()"
   ]
  },
  {
   "cell_type": "markdown",
   "metadata": {},
   "source": [
    "#### age"
   ]
  },
  {
   "cell_type": "code",
   "execution_count": 15,
   "metadata": {
    "scrolled": true
   },
   "outputs": [
    {
     "data": {
      "text/plain": [
       "<matplotlib.axes._subplots.AxesSubplot at 0x1a1bfe1438>"
      ]
     },
     "execution_count": 15,
     "metadata": {},
     "output_type": "execute_result"
    },
    {
     "data": {
      "image/png": "[encoded data removed]",
      "text/plain": [
       "<Figure size 432x288 with 1 Axes>"
      ]
     },
     "metadata": {
      "needs_background": "light"
     },
     "output_type": "display_data"
    }
   ],
   "source": [
    "sns.boxplot(x='attempt_suicide', y='age', data=df,palette='rainbow')"
   ]
  },
  {
   "cell_type": "markdown",
   "metadata": {},
   "source": [
    "#### friend"
   ]
  },
  {
   "cell_type": "code",
   "execution_count": 16,
   "metadata": {
    "scrolled": true
   },
   "outputs": [
    {
     "data": {
      "text/plain": [
       "<matplotlib.axes._subplots.AxesSubplot at 0x1a1befeda0>"
      ]
     },
     "execution_count": 16,
     "metadata": {},
     "output_type": "execute_result"
    },
    {
     "data": {
      "image/png": "[encoded data removed]",
      "text/plain": [
       "<Figure size 432x288 with 1 Axes>"
      ]
     },
     "metadata": {
      "needs_background": "light"
     },
     "output_type": "display_data"
    }
   ],
   "source": [
    "sns.boxplot(x='attempt_suicide', y='friends', data=df,palette='rainbow')"
   ]
  },
  {
   "cell_type": "markdown",
   "metadata": {},
   "source": [
    "### Recoding in order to reduce classes in each variable  "
   ]
  },
  {
   "cell_type": "markdown",
   "metadata": {},
   "source": [
    "#### gender"
   ]
  },
  {
   "cell_type": "code",
   "execution_count": 17,
   "metadata": {},
   "outputs": [
    {
     "data": {
      "text/plain": [
       "array(['Male', 'Female', 'Transgender male', 'Transgender female'],\n",
       "      dtype=object)"
      ]
     },
     "execution_count": 17,
     "metadata": {},
     "output_type": "execute_result"
    }
   ],
   "source": [
    "df['gender'].unique()"
   ]
  },
  {
   "cell_type": "code",
   "execution_count": 18,
   "metadata": {},
   "outputs": [],
   "source": [
    "gender_ = {'Male':'Male', \n",
    "           'Female':'Female',\n",
    "           'Transgender male':'Others',\n",
    "           'Transgender female':'Others'}\n",
    "\n",
    "df['gender']=df['gender'].map(gender_)"
   ]
  },
  {
   "cell_type": "code",
   "execution_count": 19,
   "metadata": {},
   "outputs": [
    {
     "data": {
      "text/plain": [
       "array(['Male', 'Female', 'Others'], dtype=object)"
      ]
     },
     "execution_count": 19,
     "metadata": {},
     "output_type": "execute_result"
    }
   ],
   "source": [
    "df['gender'].unique()"
   ]
  },
  {
   "cell_type": "markdown",
   "metadata": {},
   "source": [
    "#### race"
   ]
  },
  {
   "cell_type": "code",
   "execution_count": 20,
   "metadata": {
    "scrolled": true
   },
   "outputs": [
    {
     "data": {
      "text/plain": [
       "array(['White non-Hispanic', 'Hispanic (of any race)', 'Asian',\n",
       "       'white and asian', 'caucasian', 'Black', 'Middle Eastern',\n",
       "       'half Arab', 'Mixed race', 'Pakistani', 'helicopterkin', 'Turkish',\n",
       "       'Indian', 'Native american', 'Mixed', 'mixed', 'Mixed white/asian',\n",
       "       'indian', 'Multi', 'Native American mix', 'North African',\n",
       "       'Half Asian half white', 'White and Native American',\n",
       "       'First two answers. Gender is androgyne, not male; sexuality is asexual, not bi.',\n",
       "       'European'], dtype=object)"
      ]
     },
     "execution_count": 20,
     "metadata": {},
     "output_type": "execute_result"
    }
   ],
   "source": [
    "df['race'].unique()"
   ]
  },
  {
   "cell_type": "code",
   "execution_count": 21,
   "metadata": {},
   "outputs": [
    {
     "data": {
      "text/html": [
       "<div>\n",
       "<style scoped>\n",
       "    .dataframe tbody tr th:only-of-type {\n",
       "        vertical-align: middle;\n",
       "    }\n",
       "\n",
       "    .dataframe tbody tr th {\n",
       "        vertical-align: top;\n",
       "    }\n",
       "\n",
       "    .dataframe thead th {\n",
       "        text-align: right;\n",
       "    }\n",
       "</style>\n",
       "<table border=\"1\" class=\"dataframe\">\n",
       "  <thead>\n",
       "    <tr style=\"text-align: right;\">\n",
       "      <th></th>\n",
       "      <th>gender</th>\n",
       "      <th>sexuallity</th>\n",
       "      <th>age</th>\n",
       "      <th>income</th>\n",
       "      <th>race</th>\n",
       "      <th>bodyweight</th>\n",
       "      <th>virgin</th>\n",
       "      <th>prostitution_legal</th>\n",
       "      <th>pay_for_sex</th>\n",
       "      <th>friends</th>\n",
       "      <th>social_fear</th>\n",
       "      <th>depressed</th>\n",
       "      <th>what_help_from_others</th>\n",
       "      <th>attempt_suicide</th>\n",
       "      <th>employment</th>\n",
       "      <th>edu_level</th>\n",
       "      <th>improve_yourself_how</th>\n",
       "    </tr>\n",
       "  </thead>\n",
       "  <tbody>\n",
       "    <tr>\n",
       "      <th>150</th>\n",
       "      <td>Female</td>\n",
       "      <td>Bisexual</td>\n",
       "      <td>12</td>\n",
       "      <td>$150,000 or more</td>\n",
       "      <td>helicopterkin</td>\n",
       "      <td>Obese</td>\n",
       "      <td>No</td>\n",
       "      <td>Yes</td>\n",
       "      <td>No</td>\n",
       "      <td>15.0</td>\n",
       "      <td>No</td>\n",
       "      <td>No</td>\n",
       "      <td>I don't want help, more one night stands</td>\n",
       "      <td>No</td>\n",
       "      <td>Out of work but not currently looking for work</td>\n",
       "      <td>Some high school, no diploma</td>\n",
       "      <td>just b confident</td>\n",
       "    </tr>\n",
       "  </tbody>\n",
       "</table>\n",
       "</div>"
      ],
      "text/plain": [
       "     gender sexuallity  age            income           race bodyweight  \\\n",
       "150  Female   Bisexual   12  $150,000 or more  helicopterkin      Obese   \n",
       "\n",
       "    virgin prostitution_legal pay_for_sex  friends social_fear depressed  \\\n",
       "150     No                Yes          No     15.0          No        No   \n",
       "\n",
       "                        what_help_from_others attempt_suicide  \\\n",
       "150  I don't want help, more one night stands              No   \n",
       "\n",
       "                                         employment  \\\n",
       "150  Out of work but not currently looking for work   \n",
       "\n",
       "                        edu_level improve_yourself_how  \n",
       "150  Some high school, no diploma     just b confident  "
      ]
     },
     "execution_count": 21,
     "metadata": {},
     "output_type": "execute_result"
    }
   ],
   "source": [
    "#It doesn't make sense that the observers answer race as 'helicopterkin' ,so we explore.\n",
    "df[df['race']=='helicopterkin']"
   ]
  },
  {
   "cell_type": "code",
   "execution_count": 22,
   "metadata": {},
   "outputs": [],
   "source": [
    "#Drop row '150' because the observer is uncooperative. \n",
    "df.drop(150,axis=0,inplace=True) "
   ]
  },
  {
   "cell_type": "code",
   "execution_count": 23,
   "metadata": {},
   "outputs": [],
   "source": [
    "race_ = {'First two answers. Gender is androgyne, not male; sexuality is asexual, not bi.':'mixed',\n",
    "'half Arab':'mixed',\n",
    "'Half Asian half white':'mixed',      \n",
    "'Mixed':'mixed',\n",
    "'Mixed race':'mixed',\n",
    "'Mixed white/asian':'mixed',        \n",
    "'Multi':'mixed',\n",
    "'Native American mix':'mixed',\n",
    "'mixed':'mixed',\n",
    "'Asian':'mongoloid',\n",
    "'Indian':'mongoloid',\n",
    "'indian':'mongoloid',\n",
    "'Middle Eastern':'mongoloid',\n",
    "'Pakistani':'mongoloid',\n",
    "'white and asian':'mongoloid', \n",
    "'Black':'black', \n",
    "'caucasian':'caucasian', \n",
    "'European':'caucasian',\n",
    "'Hispanic (of any race)':'caucasian',\n",
    "'Native american':'caucasian',\n",
    "'North African':'caucasian',\n",
    "'Turkish':'caucasian',\n",
    "'White and Native American':'caucasian',\n",
    "'White non-Hispanic':'caucasian'}        \n",
    "df['race']=df['race'].map(race_)"
   ]
  },
  {
   "cell_type": "code",
   "execution_count": 24,
   "metadata": {
    "scrolled": true
   },
   "outputs": [
    {
     "data": {
      "text/plain": [
       "array(['caucasian', 'mongoloid', 'black', 'mixed'], dtype=object)"
      ]
     },
     "execution_count": 24,
     "metadata": {},
     "output_type": "execute_result"
    }
   ],
   "source": [
    "df['race'].unique()"
   ]
  },
  {
   "cell_type": "code",
   "execution_count": 25,
   "metadata": {
    "scrolled": true
   },
   "outputs": [
    {
     "data": {
      "text/plain": [
       "<matplotlib.axes._subplots.AxesSubplot at 0x1a1c225fd0>"
      ]
     },
     "execution_count": 25,
     "metadata": {},
     "output_type": "execute_result"
    },
    {
     "data": {
      "image/png": "[encoded data removed]",
      "text/plain": [
       "<Figure size 432x288 with 1 Axes>"
      ]
     },
     "metadata": {
      "needs_background": "light"
     },
     "output_type": "display_data"
    }
   ],
   "source": [
    "sns.countplot(x='attempt_suicide',hue='race',data=df,palette='rainbow')"
   ]
  },
  {
   "cell_type": "markdown",
   "metadata": {},
   "source": [
    "#### friends"
   ]
  },
  {
   "cell_type": "code",
   "execution_count": 26,
   "metadata": {},
   "outputs": [
    {
     "data": {
      "text/plain": [
       "0.0      109\n",
       "1.0       54\n",
       "5.0       45\n",
       "3.0       44\n",
       "2.0       42\n",
       "10.0      34\n",
       "4.0       27\n",
       "6.0       26\n",
       "20.0      16\n",
       "15.0      11\n",
       "7.0       10\n",
       "8.0       10\n",
       "12.0       8\n",
       "30.0       6\n",
       "16.0       3\n",
       "40.0       3\n",
       "13.0       3\n",
       "9.0        2\n",
       "100.0      2\n",
       "17.0       2\n",
       "25.0       2\n",
       "600.0      1\n",
       "400.0      1\n",
       "11.0       1\n",
       "28.0       1\n",
       "60.0       1\n",
       "80.0       1\n",
       "0.5        1\n",
       "18.0       1\n",
       "0.2        1\n",
       "Name: friends, dtype: int64"
      ]
     },
     "execution_count": 26,
     "metadata": {},
     "output_type": "execute_result"
    }
   ],
   "source": [
    "df['friends'].value_counts()"
   ]
  },
  {
   "cell_type": "code",
   "execution_count": 27,
   "metadata": {},
   "outputs": [],
   "source": [
    "#We assign 0.2 and 0.5 to 0 because the unit of is person.\n",
    "df['friends'].replace({\n",
    "        0.2:0,\n",
    "        0.5:0\n",
    "    }, inplace=True)"
   ]
  },
  {
   "cell_type": "markdown",
   "metadata": {},
   "source": [
    "#### what_help_from_others"
   ]
  },
  {
   "cell_type": "code",
   "execution_count": 28,
   "metadata": {},
   "outputs": [
    {
     "data": {
      "text/plain": [
       "array(['wingman/wingwoman, Set me up with a date',\n",
       "       'wingman/wingwoman, Set me up with a date, date coaching',\n",
       "       \"I don't want help\", 'date coaching',\n",
       "       'Set me up with a date, date coaching',\n",
       "       'wingman/wingwoman, date coaching', 'Set me up with a date',\n",
       "       'wingman/wingwoman, Set me up with a date, date coaching, someone to kill.me',\n",
       "       'wingman/wingwoman, someone to hang out with me where I can meet met (e.g. class, free event) and sell me up',\n",
       "       \"wingman/wingwoman, Set me up with a date, I don't want help\",\n",
       "       'wingman/wingwoman',\n",
       "       'wingman/wingwoman, Set me up with a date, date coaching, anything',\n",
       "       'Set me up with a date, Friends ',\n",
       "       \"wingman/wingwoman, Set me up with a date, I don't even know..\",\n",
       "       'Trust', \"date coaching, I don't want help\",\n",
       "       'I want help but I am not sure what kind. I always think it would be nice if a woman would approch me but thats not realistic.',\n",
       "       'fitness coaching',\n",
       "       'wingman/wingwoman, Set me up with a date, Pity fuck',\n",
       "       'Maybe to learn how to be happy', 'Friendship', 'Im on my own',\n",
       "       'help getting a better job', \"I'm not fa lol\",\n",
       "       'not sure what would help',\n",
       "       'date coaching, social skills training',\n",
       "       'There is no way that they can help. They only give useless advice like \"just be more confident\".',\n",
       "       \"I don't want any help. I can't even talk about it.\", 'Friends',\n",
       "       'coping with being beyond help',\n",
       "       'Money for rehab or sober living home',\n",
       "       'Just want mates that make it look like I fit in',\n",
       "       \"wingman/wingwoman, Set me up with a date, date coaching, I don't really know. Something magical that would make me happy.\",\n",
       "       'wingman/wingwoman, Set me up with a date, date coaching, Therapy, shoulder to cry on',\n",
       "       'date coaching, It would be nice but why would a woman choose me?  There are plenty better',\n",
       "       'therapy',\n",
       "       \"I don't want help, Like, to be seen & treated like a normal person\",\n",
       "       'i lost faith and hope',\n",
       "       'wingman/wingwoman, Set me up with a date, date coaching, Any help',\n",
       "       \"I don't want help, kill me\", 'Emotional support',\n",
       "       'just more friends/greater social life in general tbh',\n",
       "       'Teach me how to talk to people',\n",
       "       \"I don't want help, More general stuff\", \"I don't know\",\n",
       "       'I used to want all of those things. Now it is too late for any of them to make a difference.',\n",
       "       'wingman/wingwoman, Set me up with a date, invite me to shit please',\n",
       "       'I have no idea', \"Set me up with a date, I don't want help\",\n",
       "       \"wingman/wingwoman, Set me up with a date, date coaching, I don't want help\"],\n",
       "      dtype=object)"
      ]
     },
     "execution_count": 28,
     "metadata": {},
     "output_type": "execute_result"
    }
   ],
   "source": [
    "df['what_help_from_others'].unique()"
   ]
  },
  {
   "cell_type": "code",
   "execution_count": 29,
   "metadata": {},
   "outputs": [],
   "source": [
    "whathelp_ = {\"I don't know\":\"don't want\",\n",
    "\"I don't want any help. I can't even talk about it.\":\"don't want\",\n",
    "\"I don't want help\":\"don't want\",\n",
    "\"I don't want help, kill me\":\"don't want\",\n",
    "\"I don't want help, Like, to be seen & treated like a normal person\":\"don't want\",\n",
    "\"I don't want help, More general stuff\":\"don't want\",\n",
    "\"I don't want help, more one night stands\":\"don't want\",\n",
    "\"I have no idea\":\"don't want\",\n",
    "\"not sure what would help\":\"don't want\",\n",
    "\"Friends\":\"friend\",\n",
    "\"Friendship\":\"friend\",\n",
    "\"just more friends/greater social life in general tbh\":\"friend\",\n",
    "\"Just want mates that make it look like I fit in\":\"friend\",\n",
    "\"Teach me how to talk to people\":\"friend\",\n",
    "\"Emotional support\":\"mental Help\",\n",
    "\"i lost faith and hope\":\"mental Help\",\n",
    "\"I used to want all of those things. Now it is too late for any of them to make a difference.\":\"mental Help\",\n",
    "\"Maybe to learn how to be happy\":\"mental Help\",\n",
    "\"therapy\":\"mental Help\",\n",
    "'There is no way that they can help. They only give useless advice like \"just be more confident\".':\"mental Help\",\n",
    "\"Trust\":\"mental Help\",\n",
    "\"coping with being beyond help\":\"other\",\n",
    "\"fitness coaching\":\"other\",\n",
    "\"help getting a better job\":\"other\",\n",
    "\"I'm not fa lol\":\"other\",\n",
    "\"Im on my own\":\"other\",\n",
    "\"Money for rehab or sober living home\":\"other\",\n",
    "\"date coaching\":\"dating\",\n",
    "\"date coaching, I don't want help\":\"dating\",\n",
    "\"date coaching, It would be nice but why would a woman choose me?  There are plenty better\":\"dating\",\n",
    "\"date coaching, social skills training\":\"dating\",\n",
    "\"I want help but I am not sure what kind. I always think it would be nice if a woman would approch me but thats not realistic.\":\"dating\",\n",
    "\"Set me up with a date\":\"dating\",\n",
    "\"Set me up with a date, date coaching\":\"dating\",\n",
    "\"Set me up with a date, Friends \":\"dating\",\n",
    "\"Set me up with a date, I don't want help\":\"dating\",\n",
    "\"wingman/wingwoman\":\"dating\",\n",
    "\"wingman/wingwoman, date coaching\":\"dating\",\n",
    "\"wingman/wingwoman, Set me up with a date\":\"dating\",\n",
    "\"wingman/wingwoman, Set me up with a date, date coaching\":\"dating\",\n",
    "\"wingman/wingwoman, Set me up with a date, date coaching, Any help\":\"dating\",\n",
    "\"wingman/wingwoman, Set me up with a date, date coaching, anything\":\"dating\",\n",
    "\"wingman/wingwoman, Set me up with a date, date coaching, I don't really know. Something magical that would make me happy.\":\"dating\",\n",
    "\"wingman/wingwoman, Set me up with a date, date coaching, I don't want help\":\"dating\",\n",
    "\"wingman/wingwoman, Set me up with a date, date coaching, someone to kill.me\":\"dating\",\n",
    "\"wingman/wingwoman, Set me up with a date, date coaching, Therapy, shoulder to cry on\":\"dating\",\n",
    "\"wingman/wingwoman, Set me up with a date, I don't even know..\":\"dating\",\n",
    "\"wingman/wingwoman, Set me up with a date, I don't want help\":\"dating\",\n",
    "\"wingman/wingwoman, Set me up with a date, invite me to shit please\":\"dating\",\n",
    "\"wingman/wingwoman, Set me up with a date, Pity fuck\":\"dating\",\n",
    "\"wingman/wingwoman, someone to hang out with me where I can meet met (e.g. class, free event) and sell me up\":\"dating\"\n",
    "}            \n",
    "            \n",
    "df['what_help_from_others']=df['what_help_from_others'].map(whathelp_)\n"
   ]
  },
  {
   "cell_type": "code",
   "execution_count": 30,
   "metadata": {
    "scrolled": true
   },
   "outputs": [
    {
     "data": {
      "text/plain": [
       "array(['dating', \"don't want\", 'mental Help', 'other', 'friend'],\n",
       "      dtype=object)"
      ]
     },
     "execution_count": 30,
     "metadata": {},
     "output_type": "execute_result"
    }
   ],
   "source": [
    "df['what_help_from_others'].unique()"
   ]
  },
  {
   "cell_type": "code",
   "execution_count": 31,
   "metadata": {
    "scrolled": true
   },
   "outputs": [
    {
     "data": {
      "text/plain": [
       "<matplotlib.axes._subplots.AxesSubplot at 0x1a1c480828>"
      ]
     },
     "execution_count": 31,
     "metadata": {},
     "output_type": "execute_result"
    },
    {
     "data": {
      "image/png": "[encoded data removed]",
      "text/plain": [
       "<Figure size 432x288 with 1 Axes>"
      ]
     },
     "metadata": {
      "needs_background": "light"
     },
     "output_type": "display_data"
    }
   ],
   "source": [
    "sns.countplot(x='attempt_suicide',hue='what_help_from_others',data=df,palette='rainbow')"
   ]
  },
  {
   "cell_type": "markdown",
   "metadata": {},
   "source": [
    "#### improve_yourself_how"
   ]
  },
  {
   "cell_type": "code",
   "execution_count": 32,
   "metadata": {},
   "outputs": [
    {
     "data": {
      "text/plain": [
       "array(['None', 'join clubs/socual clubs/meet ups', 'Other exercise',\n",
       "       'Joined a gym/go to the gym',\n",
       "       'Joined a gym/go to the gym, join clubs/socual clubs/meet ups',\n",
       "       'Therapy, join clubs/socual clubs/meet ups, None, Volunteering, social activism, traveling',\n",
       "       'Joined a gym/go to the gym, Therapy', 'Therapy',\n",
       "       'Other exercise, join clubs/socual clubs/meet ups',\n",
       "       'Joined a gym/go to the gym, Other exercise',\n",
       "       'Joined a gym/go to the gym, Therapy, join clubs/socual clubs/meet ups',\n",
       "       'Cosmetic survey, Joined a gym/go to the gym, Therapy, join clubs/socual clubs/meet ups',\n",
       "       'Therapy, Other exercise, join clubs/socual clubs/meet ups',\n",
       "       'Cosmetic survey, Therapy, Other exercise, forced myself to free events or events w/acquintances advertised in fb; been part of a blog for five years and met some members in person',\n",
       "       'Joined a gym/go to the gym, None', 'Therapy, Other exercise',\n",
       "       'Joined a gym/go to the gym, Other exercise, join clubs/socual clubs/meet ups',\n",
       "       'Cosmetic survey, Joined a gym/go to the gym, Therapy, Other exercise, join clubs/socual clubs/meet ups',\n",
       "       'Joined a gym/go to the gym, Therapy, Other exercise, join clubs/socual clubs/meet ups',\n",
       "       'Cosmetic survey, Joined a gym/go to the gym, Therapy, Other exercise',\n",
       "       'None, started taking some medication',\n",
       "       'Joined a gym/go to the gym, Therapy, Clubbing, living in a student house (at dorms)',\n",
       "       'Talking to people',\n",
       "       'Joined a gym/go to the gym, join clubs/socual clubs/meet ups, Partying',\n",
       "       'join clubs/socual clubs/meet ups, Practice various skills, such as writing and piano.',\n",
       "       'Other exercise, join clubs/socual clubs/meet ups, Change my lifestyle, eat healthy, etc',\n",
       "       'Cosmetic survey, Joined a gym/go to the gym, Therapy',\n",
       "       'Cosmetic survey, Other exercise',\n",
       "       'Therapy, join clubs/socual clubs/meet ups', 'Nope not Fa',\n",
       "       'Other exercise, Hobbies - music, languages, calligraphy',\n",
       "       'Therapy, Other exercise, Develop hobbies',\n",
       "       'Joined a gym/go to the gym, Therapy, Joined a German language learning course.',\n",
       "       'Therapy, join clubs/socual clubs/meet ups, medication',\n",
       "       'Trying to accept my fate.',\n",
       "       'Therapy, Other exercise, diets, change of wardrobe, medication, diet pills ',\n",
       "       'Joined a gym/go to the gym, Therapy, Other exercise',\n",
       "       'Joined a gym/go to the gym, Therapy, Self analysis ',\n",
       "       'Cosmetic survey, Therapy',\n",
       "       'Other exercise, Dealer, keeps you in touch with a lot of different people',\n",
       "       'Cosmetic survey, Therapy, join clubs/socual clubs/meet ups',\n",
       "       'Joined a gym/go to the gym, Other exercise, Play live in a band. ',\n",
       "       'Called suicide hotlines', 'Lose weight',\n",
       "       'Other exercise, Hair, makeup, clothing',\n",
       "       'Cosmetic survey, Joined a gym/go to the gym, Other exercise',\n",
       "       'Cosmetic survey, Joined a gym/go to the gym, Therapy, Other exercise, join clubs/socual clubs/meet ups, Fashion makeup personality etc',\n",
       "       'Losing weight through better diet. No exercise yet. ',\n",
       "       'Changed my hairstyle and lost weight ',\n",
       "       'Cosmetic survey, Joined a gym/go to the gym, join clubs/socual clubs/meet ups',\n",
       "       'Joined a gym/go to the gym, Other exercise, go to bars',\n",
       "       'work out at home, eat more', 'Non-physical forms of improvement',\n",
       "       'Other exercise, None', 'Other exercise, Losing weight',\n",
       "       'Other exercise, learn new skills',\n",
       "       'Therapy, Other exercise, None',\n",
       "       'Cosmetic surgery, Joined a gym/go to the gym, Other exercise, join clubs/socual clubs/meet ups',\n",
       "       'Other exercise, Joined the US Navy', 'Started losing weight',\n",
       "       'Cosmetic surgery, Joined a gym/go to the gym, Therapy, Other exercise, join clubs/socual clubs/meet ups, None'],\n",
       "      dtype=object)"
      ]
     },
     "execution_count": 32,
     "metadata": {},
     "output_type": "execute_result"
    }
   ],
   "source": [
    "df['improve_yourself_how'].unique()"
   ]
  },
  {
   "cell_type": "code",
   "execution_count": 33,
   "metadata": {},
   "outputs": [],
   "source": [
    "improve_ = {\"Called suicide hotlines\":\"mental improvement\",\n",
    "\"join clubs/socual clubs/meet ups\":\"mental improvement\",\n",
    "\"just b confident\":\"mental improvement\",\n",
    "\"None, started taking some medication\":\"mental improvement\",\n",
    "\"Talking to people\":\"mental improvement\",\n",
    "\"Therapy\":\"mental improvement\",\n",
    "\"Therapy, join clubs/socual clubs/meet ups\":\"mental improvement\",\n",
    "\"Therapy, join clubs/socual clubs/meet ups, medication\":\"mental improvement\",\n",
    "\"Therapy, join clubs/socual clubs/meet ups, None, Volunteering, social activism, traveling\":\"mental improvement\",\n",
    "\"Trying to accept my fate.\":\"mental improvement\",\n",
    "\"Cosmetic survey, Therapy\":\"physical & mental improvement\",\n",
    "\"Cosmetic survey, Therapy, join clubs/socual clubs/meet ups\":\"physical & mental improvement\",\n",
    "\"Cosmetic survey, Therapy, Other exercise, forced myself to free events or events w/acquintances advertised in fb; been part of a blog for five years and met some members in person\":\"physical & mental improvement\",\n",
    "\"join clubs/socual clubs/meet ups, Practice various skills, such as writing and piano.\":\"physical & mental improvement\",\n",
    "\"Joined a gym/go to the gym, Therapy\":\"physical & mental improvement\",\n",
    "\"Joined a gym/go to the gym, Therapy, Clubbing, living in a student house (at dorms)\":\"physical & mental improvement\",\n",
    "\"Joined a gym/go to the gym, Therapy, join clubs/socual clubs/meet ups\":\"physical & mental improvement\",\n",
    "\"Joined a gym/go to the gym, Therapy, Joined a German language learning course.\":\"physical & mental improvement\",\n",
    "\"Joined a gym/go to the gym, Therapy, Other exercise\":\"physical & mental improvement\",\n",
    "\"Joined a gym/go to the gym, Therapy, Other exercise, join clubs/socual clubs/meet ups\":\"physical & mental improvement\",\n",
    "\"Joined a gym/go to the gym, Therapy, Self analysis \":\"physical & mental improvement\", \n",
    "\"Other exercise, Dealer, keeps you in touch with a lot of different people\":\"physical & mental improvement\",\n",
    "\"Other exercise, join clubs/socual clubs/meet ups\":\"physical & mental improvement\",\n",
    "\"Other exercise, join clubs/socual clubs/meet ups, Change my lifestyle, eat healthy, etc\":\"physical & mental improvement\",\n",
    "\"Other exercise, Joined the US Navy\":\"physical & mental improvement\",\n",
    "\"Therapy, Other exercise\":\"physical & mental improvement\",\n",
    "\"Therapy, Other exercise, Develop hobbies\":\"physical & mental improvement\",\n",
    "\"Therapy, Other exercise, diets, change of wardrobe, medication, diet pills \":\"physical & mental improvement\", \n",
    "\"Therapy, Other exercise, join clubs/socual clubs/meet ups\":\"physical & mental improvement\",\n",
    "\"Therapy, Other exercise, None\":\"physical & mental improvement\",\n",
    "\"Non-physical forms of improvement\":\"none\",\n",
    "\"improve_yourself_how\":\"none\",\n",
    "\"None\":\"none\",\n",
    "\"Nope not Fa\":\"none\",\n",
    "\"Changed my hairstyle and lost weight \":\"physical improvement\",\n",
    "\"Changed my hairstyle and lost weight \":\"physical improvement\",\n",
    "\"Changed my hairstyle and lost weight \":\"physical improvement\",    \n",
    "\"Changed my hairstyle and lost weight \":\"physical improvement\",   \n",
    "\"Changed my hairstyle and lost weight \":\"physical improvement\",    \n",
    "\"Changed my hairstyle and lost weight \":\"physical improvement\",    \n",
    "\"Changed my hairstyle and lost weight \":\"physical improvement\",    \n",
    "\"Changed my hairstyle and lost weight \":\"physical improvement\",    \n",
    "\"Changed my hairstyle and lost weight \":\"physical improvement\",\n",
    "\"Cosmetic surgery, Joined a gym/go to the gym, Other exercise, join clubs/socual clubs/meet ups\":\"physical improvement\",\n",
    "\"Cosmetic surgery, Joined a gym/go to the gym, Therapy, Other exercise, join clubs/socual clubs/meet ups, None\":\"physical improvement\",\n",
    "\"Cosmetic survey, Joined a gym/go to the gym, join clubs/socual clubs/meet ups\":\"physical improvement\",\n",
    "\"Cosmetic survey, Joined a gym/go to the gym, Other exercise\":\"physical improvement\",\n",
    "\"Cosmetic survey, Joined a gym/go to the gym, Therapy\":\"physical improvement\",\n",
    "\"Cosmetic survey, Joined a gym/go to the gym, Therapy, join clubs/socual clubs/meet ups\":\"physical improvement\",\n",
    "\"Cosmetic survey, Joined a gym/go to the gym, Therapy, Other exercise\":\"physical improvement\",\n",
    "\"Cosmetic survey, Joined a gym/go to the gym, Therapy, Other exercise, join clubs/socual clubs/meet ups\":\"physical improvement\",\n",
    "\"Cosmetic survey, Joined a gym/go to the gym, Therapy, Other exercise, join clubs/socual clubs/meet ups, Fashion makeup personality etc\":\"physical improvement\",\n",
    "\"Cosmetic survey, Other exercise\":\"physical improvement\",\n",
    "\"Joined a gym/go to the gym\":\"physical improvement\",\n",
    "\"Joined a gym/go to the gym, join clubs/socual clubs/meet ups\":\"physical improvement\",\n",
    "\"Joined a gym/go to the gym, join clubs/socual clubs/meet ups, Partying\":\"physical improvement\",\n",
    "\"Joined a gym/go to the gym, None\":\"physical improvement\",\n",
    "\"Joined a gym/go to the gym, Other exercise\":\"physical improvement\",\n",
    "\"Joined a gym/go to the gym, Other exercise, go to bars\":\"physical improvement\",\n",
    "\"Joined a gym/go to the gym, Other exercise, join clubs/socual clubs/meet ups\":\"physical improvement\",\n",
    "\"Joined a gym/go to the gym, Other exercise, Play live in a band. \":\"physical improvement\",\n",
    "\"Lose weight\":\"physical improvement\",\n",
    "\"Losing weight through better diet. No exercise yet. \":\"physical improvement\", \n",
    "\"Other exercise\":\"physical improvement\",\n",
    "\"Other exercise, Hair, makeup, clothing\":\"physical improvement\",\n",
    "\"Other exercise, Hobbies - music, languages, calligraphy\":\"physical improvement\",\n",
    "\"Other exercise, learn new skills\":\"physical improvement\",\n",
    "\"Other exercise, Losing weight\":\"physical improvement\",\n",
    "\"Other exercise, None\":\"physical improvement\",\n",
    "\"Started losing weight\":\"physical improvement\",\n",
    "\"work out at home, eat more\":\"physical improvement\"           \n",
    "               }\n",
    "\n",
    "df['improve_yourself_how']=df['improve_yourself_how'].map(improve_)                \n",
    "                "
   ]
  },
  {
   "cell_type": "code",
   "execution_count": 34,
   "metadata": {},
   "outputs": [
    {
     "data": {
      "text/plain": [
       "array(['none', 'mental improvement', 'physical improvement',\n",
       "       'physical & mental improvement'], dtype=object)"
      ]
     },
     "execution_count": 34,
     "metadata": {},
     "output_type": "execute_result"
    }
   ],
   "source": [
    "df['improve_yourself_how'].unique()"
   ]
  },
  {
   "cell_type": "code",
   "execution_count": 35,
   "metadata": {
    "scrolled": true
   },
   "outputs": [
    {
     "data": {
      "text/plain": [
       "<matplotlib.axes._subplots.AxesSubplot at 0x1a1c59cc18>"
      ]
     },
     "execution_count": 35,
     "metadata": {},
     "output_type": "execute_result"
    },
    {
     "data": {
      "image/png": "[encoded data removed]",
      "text/plain": [
       "<Figure size 432x288 with 1 Axes>"
      ]
     },
     "metadata": {
      "needs_background": "light"
     },
     "output_type": "display_data"
    }
   ],
   "source": [
    "sns.countplot(x='attempt_suicide',hue='improve_yourself_how',data=df,palette='rainbow')"
   ]
  },
  {
   "cell_type": "markdown",
   "metadata": {},
   "source": [
    "### Binary Recoding "
   ]
  },
  {
   "cell_type": "code",
   "execution_count": 36,
   "metadata": {},
   "outputs": [],
   "source": [
    "binary_ = {'Yes':1,'No':0}\n",
    "df['attempt_suicide']=df['attempt_suicide'].map(binary_)\n",
    "df['depressed']=df['depressed'].map(binary_)\n",
    "df['virgin']=df['virgin'].map(binary_)\n",
    "df['prostitution_legal']=df['prostitution_legal'].map(binary_)\n",
    "df['social_fear']=df['social_fear'].map(binary_)"
   ]
  },
  {
   "cell_type": "markdown",
   "metadata": {},
   "source": [
    "### Train & Test Split"
   ]
  },
  {
   "cell_type": "code",
   "execution_count": 37,
   "metadata": {},
   "outputs": [],
   "source": [
    "X = df.drop('attempt_suicide', axis=1)\n",
    "y = df['attempt_suicide']"
   ]
  },
  {
   "cell_type": "code",
   "execution_count": 38,
   "metadata": {},
   "outputs": [],
   "source": [
    "from sklearn.model_selection import train_test_split"
   ]
  },
  {
   "cell_type": "code",
   "execution_count": 39,
   "metadata": {},
   "outputs": [],
   "source": [
    "X_train, X_test, y_train, y_test = train_test_split(X, y, test_size=0.3, random_state=36)"
   ]
  },
  {
   "cell_type": "code",
   "execution_count": 40,
   "metadata": {},
   "outputs": [],
   "source": [
    "X_train = X_train.reset_index(drop=True)\n",
    "X_test = X_test.reset_index(drop=True)\n",
    "y_train = y_train.reset_index(drop=True)\n",
    "y_test = y_test.reset_index(drop=True)"
   ]
  },
  {
   "cell_type": "code",
   "execution_count": 41,
   "metadata": {},
   "outputs": [],
   "source": [
    "X_train_cat = X_train.drop(['age','friends'], axis=1)\n",
    "X_train_num = X_train[['age','friends']]"
   ]
  },
  {
   "cell_type": "code",
   "execution_count": 42,
   "metadata": {},
   "outputs": [],
   "source": [
    "X_test_cat = X_test.drop(['age','friends'], axis=1)\n",
    "X_test_num = X_test[['age','friends']]"
   ]
  },
  {
   "cell_type": "markdown",
   "metadata": {},
   "source": [
    "### Get Dummies "
   ]
  },
  {
   "cell_type": "code",
   "execution_count": 43,
   "metadata": {},
   "outputs": [],
   "source": [
    "gen = pd.get_dummies(X_train_cat['gender'], drop_first=True)\n",
    "sex = pd.get_dummies(X_train_cat['sexuallity'], drop_first=True)\n",
    "inc = pd.get_dummies(X_train_cat['income'], drop_first=True)\n",
    "rac = pd.get_dummies(X_train_cat['race'], drop_first=True)\n",
    "bod = pd.get_dummies(X_train_cat['bodyweight'], drop_first=True)\n",
    "pay = pd.get_dummies(X_train_cat['pay_for_sex'], drop_first=True)\n",
    "what = pd.get_dummies(X_train_cat['what_help_from_others'], drop_first=True)\n",
    "emp = pd.get_dummies(X_train_cat['employment'], drop_first=True)\n",
    "edu = pd.get_dummies(X_train_cat['edu_level'], drop_first=True)\n",
    "imp = pd.get_dummies(X_train_cat['improve_yourself_how'], drop_first=True)\n",
    "\n",
    "#Concat \n",
    "X_train_cat_dum = pd.concat([gen,sex,inc,rac,bod,pay,what,emp,edu,imp], axis=1)"
   ]
  },
  {
   "cell_type": "code",
   "execution_count": 44,
   "metadata": {},
   "outputs": [],
   "source": [
    "agen = pd.get_dummies(X_test_cat['gender'], drop_first=True)\n",
    "asex = pd.get_dummies(X_test_cat['sexuallity'], drop_first=True)\n",
    "ainc = pd.get_dummies(X_test_cat['income'], drop_first=True)\n",
    "arac = pd.get_dummies(X_test_cat['race'], drop_first=True)\n",
    "abod = pd.get_dummies(X_test_cat['bodyweight'], drop_first=True)\n",
    "apay = pd.get_dummies(X_test_cat['pay_for_sex'], drop_first=True)\n",
    "awhat = pd.get_dummies(X_test_cat['what_help_from_others'], drop_first=True)\n",
    "aemp = pd.get_dummies(X_test_cat['employment'], drop_first=True)\n",
    "aedu = pd.get_dummies(X_test_cat['edu_level'], drop_first=True)\n",
    "aimp = pd.get_dummies(X_test_cat['improve_yourself_how'], drop_first=True)\n",
    "\n",
    "#Concat \n",
    "X_test_cat_dum = pd.concat([agen,asex,ainc,arac,abod,apay,awhat,aemp,aedu,aimp], axis=1)"
   ]
  },
  {
   "cell_type": "markdown",
   "metadata": {},
   "source": [
    "### Scaling"
   ]
  },
  {
   "cell_type": "code",
   "execution_count": 45,
   "metadata": {},
   "outputs": [],
   "source": [
    "from sklearn.preprocessing import StandardScaler"
   ]
  },
  {
   "cell_type": "code",
   "execution_count": 46,
   "metadata": {},
   "outputs": [],
   "source": [
    "scaler = StandardScaler()"
   ]
  },
  {
   "cell_type": "code",
   "execution_count": 47,
   "metadata": {
    "scrolled": false
   },
   "outputs": [
    {
     "name": "stderr",
     "output_type": "stream",
     "text": [
      "/anaconda3/lib/python3.7/site-packages/sklearn/preprocessing/data.py:645: DataConversionWarning: Data with input dtype int64, float64 were all converted to float64 by StandardScaler.\n",
      "  return self.partial_fit(X, y)\n",
      "/anaconda3/lib/python3.7/site-packages/sklearn/base.py:464: DataConversionWarning: Data with input dtype int64, float64 were all converted to float64 by StandardScaler.\n",
      "  return self.fit(X, **fit_params).transform(X)\n"
     ]
    }
   ],
   "source": [
    "X_train_num_scale = pd.DataFrame(scaler.fit_transform(X_train_num),columns=X_train_num.columns)"
   ]
  },
  {
   "cell_type": "code",
   "execution_count": 48,
   "metadata": {
    "scrolled": true
   },
   "outputs": [
    {
     "name": "stderr",
     "output_type": "stream",
     "text": [
      "/anaconda3/lib/python3.7/site-packages/ipykernel_launcher.py:1: DataConversionWarning: Data with input dtype int64, float64 were all converted to float64 by StandardScaler.\n",
      "  \"\"\"Entry point for launching an IPython kernel.\n"
     ]
    }
   ],
   "source": [
    "X_test_num_scale = pd.DataFrame(scaler.transform(X_test_num),columns=X_test_num.columns)"
   ]
  },
  {
   "cell_type": "code",
   "execution_count": 49,
   "metadata": {},
   "outputs": [],
   "source": [
    "X_train = pd.concat([X_train_cat_dum ,X_train_num_scale], axis = 1)"
   ]
  },
  {
   "cell_type": "code",
   "execution_count": 50,
   "metadata": {},
   "outputs": [],
   "source": [
    "X_test = pd.concat([X_test_cat_dum ,X_test_num_scale], axis = 1)"
   ]
  },
  {
   "cell_type": "markdown",
   "metadata": {},
   "source": [
    "### Check Imbalance & Upsampling (Train set only)"
   ]
  },
  {
   "cell_type": "code",
   "execution_count": 51,
   "metadata": {},
   "outputs": [
    {
     "name": "stdout",
     "output_type": "stream",
     "text": [
      "0    383\n",
      "1     85\n",
      "Name: attempt_suicide, dtype: int64\n",
      "0    0.818376\n",
      "1    0.181624\n",
      "Name: attempt_suicide, dtype: float64\n"
     ]
    }
   ],
   "source": [
    "print(df['attempt_suicide'].value_counts())\n",
    "print(df['attempt_suicide'].value_counts(normalize=True))"
   ]
  },
  {
   "cell_type": "code",
   "execution_count": 52,
   "metadata": {},
   "outputs": [],
   "source": [
    "from sklearn.utils import resample"
   ]
  },
  {
   "cell_type": "code",
   "execution_count": 53,
   "metadata": {},
   "outputs": [],
   "source": [
    "# concatenate our training data back together\n",
    "train = pd.concat([X_train, y_train], axis=1)\n",
    "\n",
    "# separate minority and majority classes\n",
    "not_attempt = train[train.attempt_suicide==0]\n",
    "attempt = train[train.attempt_suicide==1]"
   ]
  },
  {
   "cell_type": "code",
   "execution_count": 54,
   "metadata": {},
   "outputs": [
    {
     "name": "stdout",
     "output_type": "stream",
     "text": [
      "(327, 47) (264, 47) (63, 47)\n"
     ]
    }
   ],
   "source": [
    "print(train.shape, not_attempt.shape, attempt.shape)"
   ]
  },
  {
   "cell_type": "code",
   "execution_count": 55,
   "metadata": {},
   "outputs": [],
   "source": [
    "attempt_upsampled = resample(attempt, replace=True, n_samples=len(not_attempt), random_state=101)"
   ]
  },
  {
   "cell_type": "code",
   "execution_count": 56,
   "metadata": {},
   "outputs": [
    {
     "name": "stdout",
     "output_type": "stream",
     "text": [
      "(264, 47)\n"
     ]
    }
   ],
   "source": [
    "print(attempt_upsampled.shape)"
   ]
  },
  {
   "cell_type": "code",
   "execution_count": 57,
   "metadata": {},
   "outputs": [
    {
     "data": {
      "text/plain": [
       "1    264\n",
       "0    264\n",
       "Name: attempt_suicide, dtype: int64"
      ]
     },
     "execution_count": 57,
     "metadata": {},
     "output_type": "execute_result"
    }
   ],
   "source": [
    "# concatenate unclick and click data \n",
    "upsampled = pd.concat([not_attempt, attempt_upsampled])\n",
    "upsampled['attempt_suicide'].value_counts()"
   ]
  },
  {
   "cell_type": "code",
   "execution_count": 58,
   "metadata": {},
   "outputs": [],
   "source": [
    "# split training data to feature and target \n",
    "X_train = upsampled.drop('attempt_suicide', axis=1)\n",
    "y_train = upsampled['attempt_suicide']"
   ]
  },
  {
   "cell_type": "code",
   "execution_count": 59,
   "metadata": {},
   "outputs": [
    {
     "name": "stdout",
     "output_type": "stream",
     "text": [
      "(528, 46) (528,)\n"
     ]
    }
   ],
   "source": [
    "print(X_train.shape, y_train.shape)"
   ]
  },
  {
   "cell_type": "markdown",
   "metadata": {},
   "source": [
    "## Cross validation"
   ]
  },
  {
   "cell_type": "code",
   "execution_count": 60,
   "metadata": {},
   "outputs": [],
   "source": [
    "from sklearn.model_selection import cross_val_score\n",
    "from sklearn.model_selection import cross_val_predict\n",
    "from sklearn.svm import SVC\n",
    "from sklearn.linear_model import SGDClassifier\n",
    "from sklearn.ensemble import RandomForestClassifier\n",
    "from sklearn.neighbors import KNeighborsClassifier\n",
    "from sklearn.metrics import classification_report, confusion_matrix"
   ]
  },
  {
   "cell_type": "code",
   "execution_count": 61,
   "metadata": {},
   "outputs": [],
   "source": [
    "svm_clf = SVC(kernel='poly', gamma=0.1, C=0.1)\n",
    "lr_clf = SGDClassifier(loss='log')\n",
    "rf_clf = RandomForestClassifier()\n",
    "knn_clf = KNeighborsClassifier(n_neighbors=1)"
   ]
  },
  {
   "cell_type": "markdown",
   "metadata": {},
   "source": [
    "### SVM Classifier"
   ]
  },
  {
   "cell_type": "code",
   "execution_count": 62,
   "metadata": {},
   "outputs": [
    {
     "name": "stdout",
     "output_type": "stream",
     "text": [
      "Average Accuracy: 0.6193\n",
      "Accuracy SD: 0.01428\n"
     ]
    }
   ],
   "source": [
    "svm_cross = cross_val_score(svm_clf, X_train, y_train, cv=5, scoring='accuracy', n_jobs=-1)\n",
    "print(f'Average Accuracy: {np.mean(svm_cross):.4}')\n",
    "print(f'Accuracy SD: {np.std(svm_cross):.4}') "
   ]
  },
  {
   "cell_type": "code",
   "execution_count": 63,
   "metadata": {
    "scrolled": false
   },
   "outputs": [
    {
     "name": "stdout",
     "output_type": "stream",
     "text": [
      "              precision    recall  f1-score   support\n",
      "\n",
      "           0       0.57      0.98      0.72       264\n",
      "           1       0.92      0.26      0.41       264\n",
      "\n",
      "   micro avg       0.62      0.62      0.62       528\n",
      "   macro avg       0.74      0.62      0.56       528\n",
      "weighted avg       0.74      0.62      0.56       528\n",
      "\n"
     ]
    }
   ],
   "source": [
    "y_train_pred_svm = cross_val_predict(svm_clf, X_train, y_train, cv=5, n_jobs=-1)\n",
    "print(classification_report(y_train, y_train_pred_svm))"
   ]
  },
  {
   "cell_type": "markdown",
   "metadata": {},
   "source": [
    "### Logistic Regression (SGD)"
   ]
  },
  {
   "cell_type": "code",
   "execution_count": 64,
   "metadata": {},
   "outputs": [
    {
     "name": "stdout",
     "output_type": "stream",
     "text": [
      "Average Accuracy: 0.6647\n",
      "Accuracy SD: 0.04373\n"
     ]
    }
   ],
   "source": [
    "lr_cross = cross_val_score(lr_clf, X_train, y_train, cv=5, scoring='accuracy', n_jobs=-1)\n",
    "print(f'Average Accuracy: {np.mean(lr_cross):.4}')\n",
    "print(f'Accuracy SD: {np.std(lr_cross):.4}') "
   ]
  },
  {
   "cell_type": "code",
   "execution_count": 65,
   "metadata": {},
   "outputs": [
    {
     "name": "stdout",
     "output_type": "stream",
     "text": [
      "              precision    recall  f1-score   support\n",
      "\n",
      "           0       0.64      0.79      0.71       264\n",
      "           1       0.73      0.56      0.63       264\n",
      "\n",
      "   micro avg       0.68      0.68      0.68       528\n",
      "   macro avg       0.69      0.68      0.67       528\n",
      "weighted avg       0.69      0.68      0.67       528\n",
      "\n"
     ]
    }
   ],
   "source": [
    "y_train_pred_lr = cross_val_predict(lr_clf, X_train, y_train, cv=5, n_jobs=-1)\n",
    "print(classification_report(y_train, y_train_pred_lr))"
   ]
  },
  {
   "cell_type": "markdown",
   "metadata": {},
   "source": [
    "### Random Forest"
   ]
  },
  {
   "cell_type": "code",
   "execution_count": 66,
   "metadata": {},
   "outputs": [
    {
     "name": "stdout",
     "output_type": "stream",
     "text": [
      "Average Accuracy: 0.9205\n",
      "Accuracy SD: 0.01731\n"
     ]
    }
   ],
   "source": [
    "rf_cross = cross_val_score(rf_clf, X_train, y_train, cv=5, scoring='accuracy', n_jobs=-1)\n",
    "print(f'Average Accuracy: {np.mean(rf_cross):.4}')\n",
    "print(f'Accuracy SD: {np.std(rf_cross):.4}') "
   ]
  },
  {
   "cell_type": "code",
   "execution_count": 67,
   "metadata": {
    "scrolled": true
   },
   "outputs": [
    {
     "name": "stdout",
     "output_type": "stream",
     "text": [
      "              precision    recall  f1-score   support\n",
      "\n",
      "           0       0.97      0.89      0.93       264\n",
      "           1       0.90      0.97      0.94       264\n",
      "\n",
      "   micro avg       0.93      0.93      0.93       528\n",
      "   macro avg       0.94      0.93      0.93       528\n",
      "weighted avg       0.94      0.93      0.93       528\n",
      "\n"
     ]
    }
   ],
   "source": [
    "y_train_pred_rf = cross_val_predict(rf_clf, X_train, y_train, cv=5, n_jobs=-1)\n",
    "print(classification_report(y_train, y_train_pred_rf))"
   ]
  },
  {
   "cell_type": "markdown",
   "metadata": {},
   "source": [
    "### K Nearest Neighbors"
   ]
  },
  {
   "cell_type": "code",
   "execution_count": 68,
   "metadata": {},
   "outputs": [
    {
     "name": "stdout",
     "output_type": "stream",
     "text": [
      "Average Accuracy: 0.9203\n",
      "Accuracy SD: 0.0331\n"
     ]
    }
   ],
   "source": [
    "knn_cross = cross_val_score(knn_clf, X_train, y_train, cv=5, scoring='accuracy', n_jobs=-1)\n",
    "print(f'Average Accuracy: {np.mean(knn_cross):.4}')\n",
    "print(f'Accuracy SD: {np.std(knn_cross):.4}') "
   ]
  },
  {
   "cell_type": "code",
   "execution_count": 69,
   "metadata": {
    "scrolled": true
   },
   "outputs": [
    {
     "name": "stdout",
     "output_type": "stream",
     "text": [
      "              precision    recall  f1-score   support\n",
      "\n",
      "           0       0.98      0.86      0.91       264\n",
      "           1       0.87      0.98      0.93       264\n",
      "\n",
      "   micro avg       0.92      0.92      0.92       528\n",
      "   macro avg       0.93      0.92      0.92       528\n",
      "weighted avg       0.93      0.92      0.92       528\n",
      "\n"
     ]
    }
   ],
   "source": [
    "y_train_pred_knn = cross_val_predict(knn_clf, X_train, y_train, cv=5, n_jobs=-1)\n",
    "print(classification_report(y_train, y_train_pred_knn))"
   ]
  },
  {
   "cell_type": "markdown",
   "metadata": {},
   "source": [
    "## GridSearch\n",
    "The models we choose are Random Forest and K Nearest Neighbors because they give us the best to accuracy."
   ]
  },
  {
   "cell_type": "markdown",
   "metadata": {},
   "source": [
    "### Random Forest "
   ]
  },
  {
   "cell_type": "code",
   "execution_count": 70,
   "metadata": {},
   "outputs": [
    {
     "name": "stdout",
     "output_type": "stream",
     "text": [
      "Fitting 5 folds for each of 256 candidates, totalling 1280 fits\n"
     ]
    },
    {
     "name": "stderr",
     "output_type": "stream",
     "text": [
      "[Parallel(n_jobs=-1)]: Using backend LokyBackend with 8 concurrent workers.\n",
      "[Parallel(n_jobs=-1)]: Done 268 tasks      | elapsed:    1.0s\n"
     ]
    },
    {
     "name": "stdout",
     "output_type": "stream",
     "text": [
      "[[112   7]\n",
      " [ 17   5]]\n",
      "              precision    recall  f1-score   support\n",
      "\n",
      "           0       0.87      0.94      0.90       119\n",
      "           1       0.42      0.23      0.29        22\n",
      "\n",
      "   micro avg       0.83      0.83      0.83       141\n",
      "   macro avg       0.64      0.58      0.60       141\n",
      "weighted avg       0.80      0.83      0.81       141\n",
      "\n"
     ]
    },
    {
     "name": "stderr",
     "output_type": "stream",
     "text": [
      "[Parallel(n_jobs=-1)]: Done 1280 out of 1280 | elapsed:    3.7s finished\n",
      "/anaconda3/lib/python3.7/site-packages/sklearn/model_selection/_search.py:841: DeprecationWarning: The default of the `iid` parameter will change from True to False in version 0.22 and will be removed in 0.24. This will change numeric results when test-set sizes are unequal.\n",
      "  DeprecationWarning)\n",
      "/anaconda3/lib/python3.7/site-packages/sklearn/ensemble/forest.py:246: FutureWarning: The default value of n_estimators will change from 10 in version 0.20 to 100 in 0.22.\n",
      "  \"10 in version 0.20 to 100 in 0.22.\", FutureWarning)\n"
     ]
    }
   ],
   "source": [
    "from sklearn.model_selection import GridSearchCV\n",
    "grid_params_rf = {\"max_depth\": [3, 4, 5, None],\n",
    "               \"min_samples_split\": [2, 3, 5, 10],\n",
    "               \"min_samples_leaf\": [1, 3, 5, 10],\n",
    "               \"bootstrap\": [True, False],\n",
    "               \"criterion\": ['gini', 'entropy']}\n",
    "gs_rf = GridSearchCV(rf_clf ,grid_params_rf,verbose=1,cv=5,n_jobs=-1)\n",
    "gs_results_rf = gs_rf.fit(X_train, y_train)\n",
    "gs_results_rf.best_score_\n",
    "gs_results_rf.best_estimator_\n",
    "gs_results_rf.best_params_\n",
    "best_rf = gs_results_rf.best_estimator_\n",
    "y_pred_rf = best_rf.predict(X_test)\n",
    "print(confusion_matrix(y_test, y_pred_rf))\n",
    "print(classification_report(y_test, y_pred_rf))"
   ]
  },
  {
   "cell_type": "markdown",
   "metadata": {},
   "source": [
    "### K Nearest Neighbors"
   ]
  },
  {
   "cell_type": "code",
   "execution_count": 71,
   "metadata": {},
   "outputs": [
    {
     "name": "stdout",
     "output_type": "stream",
     "text": [
      "Fitting 5 folds for each of 150 candidates, totalling 750 fits\n"
     ]
    },
    {
     "name": "stderr",
     "output_type": "stream",
     "text": [
      "[Parallel(n_jobs=-1)]: Using backend LokyBackend with 8 concurrent workers.\n",
      "[Parallel(n_jobs=-1)]: Done 160 tasks      | elapsed:    1.0s\n"
     ]
    },
    {
     "name": "stdout",
     "output_type": "stream",
     "text": [
      "[[107  12]\n",
      " [ 18   4]]\n",
      "              precision    recall  f1-score   support\n",
      "\n",
      "           0       0.86      0.90      0.88       119\n",
      "           1       0.25      0.18      0.21        22\n",
      "\n",
      "   micro avg       0.79      0.79      0.79       141\n",
      "   macro avg       0.55      0.54      0.54       141\n",
      "weighted avg       0.76      0.79      0.77       141\n",
      "\n"
     ]
    },
    {
     "name": "stderr",
     "output_type": "stream",
     "text": [
      "[Parallel(n_jobs=-1)]: Done 750 out of 750 | elapsed:    4.2s finished\n",
      "/anaconda3/lib/python3.7/site-packages/sklearn/model_selection/_search.py:841: DeprecationWarning: The default of the `iid` parameter will change from True to False in version 0.22 and will be removed in 0.24. This will change numeric results when test-set sizes are unequal.\n",
      "  DeprecationWarning)\n"
     ]
    }
   ],
   "source": [
    "from sklearn.model_selection import GridSearchCV\n",
    "grid_params_knn = {\n",
    "    'n_neighbors': range(1, 50, 2),\n",
    "    'weights': ['uniform', 'distance'],\n",
    "    'metric': ['euclidean', 'manhattan', 'minkowski']}\n",
    "gs_knn = GridSearchCV(knn_clf ,grid_params_knn,verbose=1,cv=5,n_jobs=-1)\n",
    "gs_results_knn = gs_knn.fit(X_train, y_train)\n",
    "gs_results_knn.best_score_\n",
    "gs_results_knn.best_estimator_\n",
    "gs_results_knn.best_params_\n",
    "best_knn = gs_results_knn.best_estimator_\n",
    "y_pred_knn = best_knn.predict(X_test)\n",
    "print(confusion_matrix(y_test, y_pred_knn))\n",
    "print(classification_report(y_test, y_pred_knn))"
   ]
  },
  {
   "cell_type": "markdown",
   "metadata": {},
   "source": [
    "## Ensemble \n",
    "Due to the too low recall of attempt suicide, we develop the model using ensemble medthod. "
   ]
  },
  {
   "cell_type": "markdown",
   "metadata": {},
   "source": [
    "### Bagging (oob_score=True)"
   ]
  },
  {
   "cell_type": "code",
   "execution_count": 72,
   "metadata": {},
   "outputs": [],
   "source": [
    "from sklearn.ensemble import BaggingClassifier"
   ]
  },
  {
   "cell_type": "code",
   "execution_count": 73,
   "metadata": {},
   "outputs": [],
   "source": [
    "bag_knn_clf = BaggingClassifier(base_estimator=best_knn, n_estimators=100,\n",
    "                            bootstrap=True, oob_score=True,\n",
    "                            n_jobs=-1, random_state=101)"
   ]
  },
  {
   "cell_type": "code",
   "execution_count": 74,
   "metadata": {},
   "outputs": [
    {
     "data": {
      "text/plain": [
       "BaggingClassifier(base_estimator=KNeighborsClassifier(algorithm='auto', leaf_size=30, metric='manhattan',\n",
       "           metric_params=None, n_jobs=None, n_neighbors=1, p=2,\n",
       "           weights='uniform'),\n",
       "         bootstrap=True, bootstrap_features=False, max_features=1.0,\n",
       "         max_samples=1.0, n_estimators=100, n_jobs=-1, oob_score=True,\n",
       "         random_state=101, verbose=0, warm_start=False)"
      ]
     },
     "execution_count": 74,
     "metadata": {},
     "output_type": "execute_result"
    }
   ],
   "source": [
    "bag_knn_clf.fit(X_train, y_train)"
   ]
  },
  {
   "cell_type": "code",
   "execution_count": 75,
   "metadata": {},
   "outputs": [
    {
     "data": {
      "text/plain": [
       "0.9356060606060606"
      ]
     },
     "execution_count": 75,
     "metadata": {},
     "output_type": "execute_result"
    }
   ],
   "source": [
    "bag_knn_clf.oob_score_"
   ]
  },
  {
   "cell_type": "code",
   "execution_count": 76,
   "metadata": {},
   "outputs": [],
   "source": [
    "y_bag_pred = bag_knn_clf.predict(X_test)"
   ]
  },
  {
   "cell_type": "code",
   "execution_count": 77,
   "metadata": {},
   "outputs": [
    {
     "name": "stdout",
     "output_type": "stream",
     "text": [
      "              precision    recall  f1-score   support\n",
      "\n",
      "           0       0.86      0.90      0.88       119\n",
      "           1       0.25      0.18      0.21        22\n",
      "\n",
      "   micro avg       0.79      0.79      0.79       141\n",
      "   macro avg       0.55      0.54      0.54       141\n",
      "weighted avg       0.76      0.79      0.77       141\n",
      "\n"
     ]
    }
   ],
   "source": [
    "print(classification_report(y_test, y_bag_pred))"
   ]
  },
  {
   "cell_type": "code",
   "execution_count": 78,
   "metadata": {},
   "outputs": [
    {
     "name": "stdout",
     "output_type": "stream",
     "text": [
      "[[107  12]\n",
      " [ 18   4]]\n"
     ]
    }
   ],
   "source": [
    "print(confusion_matrix(y_test, y_bag_pred))"
   ]
  },
  {
   "cell_type": "markdown",
   "metadata": {},
   "source": [
    "### AdaBoost"
   ]
  },
  {
   "cell_type": "code",
   "execution_count": 79,
   "metadata": {},
   "outputs": [],
   "source": [
    "from sklearn.ensemble import AdaBoostClassifier"
   ]
  },
  {
   "cell_type": "code",
   "execution_count": 80,
   "metadata": {},
   "outputs": [],
   "source": [
    "ada_clf = AdaBoostClassifier(random_state=101)"
   ]
  },
  {
   "cell_type": "code",
   "execution_count": 81,
   "metadata": {},
   "outputs": [
    {
     "data": {
      "text/plain": [
       "AdaBoostClassifier(algorithm='SAMME.R', base_estimator=None,\n",
       "          learning_rate=1.0, n_estimators=50, random_state=101)"
      ]
     },
     "execution_count": 81,
     "metadata": {},
     "output_type": "execute_result"
    }
   ],
   "source": [
    "ada_clf.fit(X_train, y_train)"
   ]
  },
  {
   "cell_type": "code",
   "execution_count": 82,
   "metadata": {},
   "outputs": [],
   "source": [
    "y_ada_pred1 = ada_clf.predict(X_test)"
   ]
  },
  {
   "cell_type": "code",
   "execution_count": 83,
   "metadata": {
    "scrolled": true
   },
   "outputs": [
    {
     "name": "stdout",
     "output_type": "stream",
     "text": [
      "              precision    recall  f1-score   support\n",
      "\n",
      "           0       0.90      0.77      0.83       119\n",
      "           1       0.31      0.55      0.39        22\n",
      "\n",
      "   micro avg       0.74      0.74      0.74       141\n",
      "   macro avg       0.60      0.66      0.61       141\n",
      "weighted avg       0.81      0.74      0.76       141\n",
      "\n"
     ]
    }
   ],
   "source": [
    "print(classification_report(y_test, y_ada_pred1))"
   ]
  },
  {
   "cell_type": "code",
   "execution_count": 84,
   "metadata": {
    "scrolled": true
   },
   "outputs": [
    {
     "name": "stdout",
     "output_type": "stream",
     "text": [
      "[[92 27]\n",
      " [10 12]]\n"
     ]
    }
   ],
   "source": [
    "print(confusion_matrix(y_test, y_ada_pred1))"
   ]
  },
  {
   "cell_type": "markdown",
   "metadata": {},
   "source": [
    "### Voting"
   ]
  },
  {
   "cell_type": "code",
   "execution_count": 85,
   "metadata": {},
   "outputs": [],
   "source": [
    "from sklearn.ensemble import VotingClassifier"
   ]
  },
  {
   "cell_type": "code",
   "execution_count": 86,
   "metadata": {},
   "outputs": [],
   "source": [
    "voting_clf = VotingClassifier(\n",
    "                estimators=[('svm', svm_clf),('lr_log', lr_clf), ('rf', rf_clf), ('knn', knn_clf)],\n",
    "                voting='hard')"
   ]
  },
  {
   "cell_type": "code",
   "execution_count": 87,
   "metadata": {},
   "outputs": [
    {
     "name": "stdout",
     "output_type": "stream",
     "text": [
      "Average Accuracy: \t 0.8769\n",
      "Accuracy SD: \t\t 0.03692\n"
     ]
    }
   ],
   "source": [
    "res = cross_val_score(voting_clf, X_train, y_train, cv=5, scoring='accuracy', n_jobs=-1)\n",
    "print(f\"Average Accuracy: \\t {np.mean(res):.4}\")\n",
    "print(f\"Accuracy SD: \\t\\t {np.std(res):.4}\")"
   ]
  },
  {
   "cell_type": "code",
   "execution_count": 88,
   "metadata": {},
   "outputs": [],
   "source": [
    "y_train_pred = cross_val_predict(voting_clf, X_train, y_train, cv=5, n_jobs=-1)"
   ]
  },
  {
   "cell_type": "code",
   "execution_count": 89,
   "metadata": {},
   "outputs": [
    {
     "name": "stderr",
     "output_type": "stream",
     "text": [
      "/anaconda3/lib/python3.7/site-packages/sklearn/linear_model/stochastic_gradient.py:166: FutureWarning: max_iter and tol parameters have been added in SGDClassifier in 0.19. If both are left unset, they default to max_iter=5 and tol=None. If tol is not None, max_iter defaults to max_iter=1000. From 0.21, default max_iter will be 1000, and default tol will be 1e-3.\n",
      "  FutureWarning)\n",
      "/anaconda3/lib/python3.7/site-packages/sklearn/ensemble/forest.py:246: FutureWarning: The default value of n_estimators will change from 10 in version 0.20 to 100 in 0.22.\n",
      "  \"10 in version 0.20 to 100 in 0.22.\", FutureWarning)\n"
     ]
    },
    {
     "data": {
      "text/plain": [
       "VotingClassifier(estimators=[('svm', SVC(C=0.1, cache_size=200, class_weight=None, coef0=0.0,\n",
       "  decision_function_shape='ovr', degree=3, gamma=0.1, kernel='poly',\n",
       "  max_iter=-1, probability=False, random_state=None, shrinking=True,\n",
       "  tol=0.001, verbose=False)), ('lr_log', SGDClassifier(alpha=0.0001, average=False, c...ki',\n",
       "           metric_params=None, n_jobs=None, n_neighbors=1, p=2,\n",
       "           weights='uniform'))],\n",
       "         flatten_transform=None, n_jobs=None, voting='hard', weights=None)"
      ]
     },
     "execution_count": 89,
     "metadata": {},
     "output_type": "execute_result"
    }
   ],
   "source": [
    "voting_clf.fit(X_train, y_train)"
   ]
  },
  {
   "cell_type": "code",
   "execution_count": 90,
   "metadata": {},
   "outputs": [],
   "source": [
    "y_test_pred = voting_clf.predict(X_test)"
   ]
  },
  {
   "cell_type": "code",
   "execution_count": 91,
   "metadata": {},
   "outputs": [
    {
     "name": "stdout",
     "output_type": "stream",
     "text": [
      "              precision    recall  f1-score   support\n",
      "\n",
      "           0       0.85      0.98      0.91       119\n",
      "           1       0.33      0.05      0.08        22\n",
      "\n",
      "   micro avg       0.84      0.84      0.84       141\n",
      "   macro avg       0.59      0.51      0.50       141\n",
      "weighted avg       0.77      0.84      0.78       141\n",
      "\n"
     ]
    }
   ],
   "source": [
    "print(classification_report(y_test, y_test_pred))"
   ]
  },
  {
   "cell_type": "code",
   "execution_count": 92,
   "metadata": {},
   "outputs": [
    {
     "name": "stdout",
     "output_type": "stream",
     "text": [
      "[[117   2]\n",
      " [ 21   1]]\n"
     ]
    }
   ],
   "source": [
    "print(confusion_matrix(y_test, y_test_pred))"
   ]
  },
  {
   "cell_type": "markdown",
   "metadata": {},
   "source": [
    "### Stacking"
   ]
  },
  {
   "cell_type": "code",
   "execution_count": 93,
   "metadata": {},
   "outputs": [],
   "source": [
    "from mlxtend.classifier import StackingCVClassifier"
   ]
  },
  {
   "cell_type": "code",
   "execution_count": 94,
   "metadata": {},
   "outputs": [],
   "source": [
    "from sklearn.linear_model import LogisticRegression"
   ]
  },
  {
   "cell_type": "code",
   "execution_count": 95,
   "metadata": {
    "scrolled": true
   },
   "outputs": [],
   "source": [
    "lr = LogisticRegression()"
   ]
  },
  {
   "cell_type": "code",
   "execution_count": 96,
   "metadata": {},
   "outputs": [],
   "source": [
    "s_clf = StackingCVClassifier(classifiers=[svm_clf, lr_clf, rf_clf, knn_clf],\n",
    "                            meta_classifier=lr, random_state=101)"
   ]
  },
  {
   "cell_type": "code",
   "execution_count": 97,
   "metadata": {},
   "outputs": [
    {
     "name": "stderr",
     "output_type": "stream",
     "text": [
      "/anaconda3/lib/python3.7/site-packages/sklearn/linear_model/stochastic_gradient.py:166: FutureWarning: max_iter and tol parameters have been added in SGDClassifier in 0.19. If both are left unset, they default to max_iter=5 and tol=None. If tol is not None, max_iter defaults to max_iter=1000. From 0.21, default max_iter will be 1000, and default tol will be 1e-3.\n",
      "  FutureWarning)\n",
      "/anaconda3/lib/python3.7/site-packages/sklearn/linear_model/stochastic_gradient.py:166: FutureWarning: max_iter and tol parameters have been added in SGDClassifier in 0.19. If both are left unset, they default to max_iter=5 and tol=None. If tol is not None, max_iter defaults to max_iter=1000. From 0.21, default max_iter will be 1000, and default tol will be 1e-3.\n",
      "  FutureWarning)\n",
      "/anaconda3/lib/python3.7/site-packages/sklearn/ensemble/forest.py:246: FutureWarning: The default value of n_estimators will change from 10 in version 0.20 to 100 in 0.22.\n",
      "  \"10 in version 0.20 to 100 in 0.22.\", FutureWarning)\n",
      "/anaconda3/lib/python3.7/site-packages/sklearn/ensemble/forest.py:246: FutureWarning: The default value of n_estimators will change from 10 in version 0.20 to 100 in 0.22.\n",
      "  \"10 in version 0.20 to 100 in 0.22.\", FutureWarning)\n",
      "/anaconda3/lib/python3.7/site-packages/sklearn/linear_model/stochastic_gradient.py:166: FutureWarning: max_iter and tol parameters have been added in SGDClassifier in 0.19. If both are left unset, they default to max_iter=5 and tol=None. If tol is not None, max_iter defaults to max_iter=1000. From 0.21, default max_iter will be 1000, and default tol will be 1e-3.\n",
      "  FutureWarning)\n",
      "/anaconda3/lib/python3.7/site-packages/sklearn/ensemble/forest.py:246: FutureWarning: The default value of n_estimators will change from 10 in version 0.20 to 100 in 0.22.\n",
      "  \"10 in version 0.20 to 100 in 0.22.\", FutureWarning)\n",
      "/anaconda3/lib/python3.7/site-packages/sklearn/linear_model/logistic.py:433: FutureWarning: Default solver will be changed to 'lbfgs' in 0.22. Specify a solver to silence this warning.\n",
      "  FutureWarning)\n"
     ]
    },
    {
     "data": {
      "text/plain": [
       "StackingCVClassifier(classifiers=[SVC(C=0.1, cache_size=200, class_weight=None, coef0=0.0,\n",
       "  decision_function_shape='ovr', degree=3, gamma=0.1, kernel='poly',\n",
       "  max_iter=-1, probability=False, random_state=None, shrinking=True,\n",
       "  tol=0.001, verbose=False), SGDClassifier(alpha=0.0001, average=False, class_weight=None,\n",
       " ...ski',\n",
       "           metric_params=None, n_jobs=None, n_neighbors=1, p=2,\n",
       "           weights='uniform')],\n",
       "           cv=2, drop_last_proba=False,\n",
       "           meta_classifier=LogisticRegression(C=1.0, class_weight=None, dual=False, fit_intercept=True,\n",
       "          intercept_scaling=1, max_iter=100, multi_class='warn',\n",
       "          n_jobs=None, penalty='l2', random_state=None, solver='warn',\n",
       "          tol=0.0001, verbose=0, warm_start=False),\n",
       "           n_jobs=None, pre_dispatch='2*n_jobs', random_state=101,\n",
       "           shuffle=True, store_train_meta_features=False, stratify=True,\n",
       "           use_clones=True, use_features_in_secondary=False,\n",
       "           use_probas=False, verbose=0)"
      ]
     },
     "execution_count": 97,
     "metadata": {},
     "output_type": "execute_result"
    }
   ],
   "source": [
    "s_clf.fit(X_train, y_train)"
   ]
  },
  {
   "cell_type": "code",
   "execution_count": 98,
   "metadata": {},
   "outputs": [],
   "source": [
    "y_test_pred_s = s_clf.predict(X_test)"
   ]
  },
  {
   "cell_type": "code",
   "execution_count": 99,
   "metadata": {},
   "outputs": [
    {
     "name": "stdout",
     "output_type": "stream",
     "text": [
      "              precision    recall  f1-score   support\n",
      "\n",
      "           0       0.86      0.91      0.88       119\n",
      "           1       0.27      0.18      0.22        22\n",
      "\n",
      "   micro avg       0.79      0.79      0.79       141\n",
      "   macro avg       0.56      0.54      0.55       141\n",
      "weighted avg       0.77      0.79      0.78       141\n",
      "\n"
     ]
    }
   ],
   "source": [
    "print(classification_report(y_test, y_test_pred_s))"
   ]
  },
  {
   "cell_type": "code",
   "execution_count": 100,
   "metadata": {},
   "outputs": [
    {
     "name": "stdout",
     "output_type": "stream",
     "text": [
      "[[108  11]\n",
      " [ 18   4]]\n"
     ]
    }
   ],
   "source": [
    "print(confusion_matrix(y_test, y_test_pred_s))"
   ]
  },
  {
   "cell_type": "markdown",
   "metadata": {},
   "source": [
    "## Conclusion"
   ]
  },
  {
   "cell_type": "code",
   "execution_count": 101,
   "metadata": {},
   "outputs": [],
   "source": [
    "report = pd.DataFrame({\n",
    "    'Model':['Random Forest','KNN','Bagging','Boosting (ADABOOST)','Voting','Stcking'],\n",
    "    'Accuracy':[0.83,0.79,0.79,0.74,0.84,0.79],\n",
    "    'Recall - Sucide Attempt = Yes':[0.23,0.18,0.18,0.55,0.05,0.18]})"
   ]
  },
  {
   "cell_type": "code",
   "execution_count": 102,
   "metadata": {},
   "outputs": [
    {
     "data": {
      "text/html": [
       "<div>\n",
       "<style scoped>\n",
       "    .dataframe tbody tr th:only-of-type {\n",
       "        vertical-align: middle;\n",
       "    }\n",
       "\n",
       "    .dataframe tbody tr th {\n",
       "        vertical-align: top;\n",
       "    }\n",
       "\n",
       "    .dataframe thead th {\n",
       "        text-align: right;\n",
       "    }\n",
       "</style>\n",
       "<table border=\"1\" class=\"dataframe\">\n",
       "  <thead>\n",
       "    <tr style=\"text-align: right;\">\n",
       "      <th></th>\n",
       "      <th>Model</th>\n",
       "      <th>Accuracy</th>\n",
       "      <th>Recall - Sucide Attempt = Yes</th>\n",
       "    </tr>\n",
       "  </thead>\n",
       "  <tbody>\n",
       "    <tr>\n",
       "      <th>0</th>\n",
       "      <td>Random Forest</td>\n",
       "      <td>0.83</td>\n",
       "      <td>0.23</td>\n",
       "    </tr>\n",
       "    <tr>\n",
       "      <th>1</th>\n",
       "      <td>KNN</td>\n",
       "      <td>0.79</td>\n",
       "      <td>0.18</td>\n",
       "    </tr>\n",
       "    <tr>\n",
       "      <th>2</th>\n",
       "      <td>Bagging</td>\n",
       "      <td>0.79</td>\n",
       "      <td>0.18</td>\n",
       "    </tr>\n",
       "    <tr>\n",
       "      <th>3</th>\n",
       "      <td>Boosting (ADABOOST)</td>\n",
       "      <td>0.74</td>\n",
       "      <td>0.55</td>\n",
       "    </tr>\n",
       "    <tr>\n",
       "      <th>4</th>\n",
       "      <td>Voting</td>\n",
       "      <td>0.84</td>\n",
       "      <td>0.05</td>\n",
       "    </tr>\n",
       "    <tr>\n",
       "      <th>5</th>\n",
       "      <td>Stcking</td>\n",
       "      <td>0.79</td>\n",
       "      <td>0.18</td>\n",
       "    </tr>\n",
       "  </tbody>\n",
       "</table>\n",
       "</div>"
      ],
      "text/plain": [
       "                 Model  Accuracy  Recall - Sucide Attempt = Yes\n",
       "0        Random Forest      0.83                           0.23\n",
       "1                  KNN      0.79                           0.18\n",
       "2              Bagging      0.79                           0.18\n",
       "3  Boosting (ADABOOST)      0.74                           0.55\n",
       "4               Voting      0.84                           0.05\n",
       "5              Stcking      0.79                           0.18"
      ]
     },
     "execution_count": 102,
     "metadata": {},
     "output_type": "execute_result"
    }
   ],
   "source": [
    "report"
   ]
  },
  {
   "cell_type": "markdown",
   "metadata": {},
   "source": [
    "The model we decided to use to predict the warning sign for suicide attempt is AdaBoost Model. \n",
    "Even though its overall performance ( Accuracy ) isn't the best one , it gives us the best Recall.\n",
    "The reason we set the Recall as the Prior Criteria is that our goal is to prevent suicide ,so we need a measure that serve us the number of true prediction ( Suicide Attempt ) compare to the number of suicide attempt case."
   ]
  }
 ],
 "metadata": {
  "kernelspec": {
   "display_name": "Python 3",
   "language": "python",
   "name": "python3"
  },
  "language_info": {
   "codemirror_mode": {
    "name": "ipython",
    "version": 3
   },
   "file_extension": ".py",
   "mimetype": "text/x-python",
   "name": "python",
   "nbconvert_exporter": "python",
   "pygments_lexer": "ipython3",
   "version": "3.7.6"
  },
  "toc": {
   "base_numbering": 1,
   "nav_menu": {},
   "number_sections": true,
   "sideBar": true,
   "skip_h1_title": true,
   "title_cell": "Table of Contents",
   "title_sidebar": "Contents",
   "toc_cell": true,
   "toc_position": {},
   "toc_section_display": true,
   "toc_window_display": false
  }
 },
 "nbformat": 4,
 "nbformat_minor": 2
}
